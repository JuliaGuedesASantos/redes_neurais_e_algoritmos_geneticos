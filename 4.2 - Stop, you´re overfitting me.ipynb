{
 "cells": [
  {
   "cell_type": "markdown",
   "id": "80095c4a",
   "metadata": {},
   "source": [
    "# **4.2 - Stop, you´re overfitting me** ❌❗\n",
    "**Objetivo:** Implemente uma estratégia de Parada Antecipada (Early Stopping) no processo de treino da rede neural feita em Python puro ou no processo de treino da rede neural feita em PyTorch\n",
    "***"
   ]
  },
  {
   "cell_type": "markdown",
   "id": "23f88fb6",
   "metadata": {},
   "source": [
    "### **Introdução** 💡"
   ]
  },
  {
   "cell_type": "markdown",
   "id": "f0b118c0",
   "metadata": {},
   "source": [
    "<p style=\"text-align:justify;\">\n",
    "Durante o treinamento de uma rede neural, um dos principais hiperparâmetros que precisamos considerar é o número de épocas, o qual diz respeito a quantidade de vezes que o modelo passará por um ciclo completo de treinamento - envolvendo os processos de <em>forward pass</em>, <em>backpropagation</em> e atualização dos pesos. Por um lado, um número pequeno de épocas pode provocar um <em>underfitting</em>, no qual o modelo não é capaz de capturar os padrões presentes nos dados, por outro, o treinamento por muitas épocas é capaz de provocar um sobreajuste, com a rede neural \"decorando\" todos os dados e apresentando desempenho insatisfatório para dados desconhecidos. Nesse sentido, evidencia-se a necessidade de encontrar uma forma de balancear esses dois fatores.\n",
    "</p>\n",
    "\n",
    "<p style=\"text-align:justify;\">\n",
    "Uma das estratégias mais adotadas para lidar com essa problemática é a utilização de parada antecipada (ou <em>Early Stopping</em>), que consiste em um método de regularização pautada no monitoramente do modelo em relação ao desempenho do conjunto de validação. Em resumo, durante o treinamento, a função <em>loss</em> (ou outra métrica de desempenho) é avaliada durante cada época. Quando a perda relativa a esses dados começa a não melhorar (ou até piorar) após um número pré-definido de épocas (denominada <em>patience</em>), o treinamento é interrompido, dado que isso indica que o modelo está se ajustando demasiadamente aos dados de treinamento. Dessa forma, é possível evitar o overfitting e garantir um treinamento adequado para a MLP treinada.\n",
    "</p>\n",
    "\n",
    "<p style=\"text-align:justify;\">\n",
    "A partir disso, esse notebook busca implementar a estratágia de parada de antecipada no treinamento de uma MLP criada a partir do módulo PyTorch. A fim de verificar se esse processo foi bem-sucedido, o dataset \"California Housing\" será utilizado - o qual visa a previsão do preço de casas do estado da Califórnia (EUA) por meio de features que descrevem as principais características dos imóveis. \n"
   ]
  },
  {
   "attachments": {
    "image.png": {
     "image/png": "[encoded data removed]"
    }
   },
   "cell_type": "markdown",
   "id": "935f6e35",
   "metadata": {},
   "source": [
    "![image.png](attachment:image.png)"
   ]
  },
  {
   "cell_type": "markdown",
   "id": "3efdc051",
   "metadata": {},
   "source": [
    "[Figura 1: Representação gráfica do conceito de parada antecipada]"
   ]
  },
  {
   "cell_type": "markdown",
   "id": "360ed686",
   "metadata": {},
   "source": [
    "### **Importação de bibliotecas** 📚"
   ]
  },
  {
   "cell_type": "code",
   "execution_count": 26,
   "id": "bf2c056b",
   "metadata": {},
   "outputs": [],
   "source": [
    "# Módulos PyTorch \n",
    "import torch \n",
    "import torch.nn as nn \n",
    "import torch.optim as optim\n",
    "\n",
    "# Outras bibliotecas\n",
    "from datasets import load_dataset, DatasetDict, Dataset\n",
    "import pandas as pd\n",
    "from sklearn.preprocessing import MinMaxScaler\n",
    "from sklearn.metrics import root_mean_squared_error\n",
    "import copy\n",
    "import matplotlib.pyplot as plt\n",
    "import seaborn as sns"
   ]
  },
  {
   "cell_type": "markdown",
   "id": "e46f76ee",
   "metadata": {},
   "source": [
    "### **Importação do Dataset** 🎲"
   ]
  },
  {
   "cell_type": "markdown",
   "metadata": {},
   "source": [
    "Por meio da biblioteca \"Datasets\", o dataset \"California Housing\" será baixado."
   ]
  },
  {
   "cell_type": "code",
   "execution_count": 2,
   "id": "ee4f4247",
   "metadata": {},
   "outputs": [],
   "source": [
    "df = load_dataset(\"gvlassis/california_housing\")"
   ]
  },
  {
   "cell_type": "code",
   "execution_count": 3,
   "metadata": {},
   "outputs": [
    {
     "data": {
      "text/plain": [
       "DatasetDict({\n",
       "    train: Dataset({\n",
       "        features: ['MedInc', 'HouseAge', 'AveRooms', 'AveBedrms', 'Population', 'AveOccup', 'Latitude', 'Longitude', 'MedHouseVal'],\n",
       "        num_rows: 16640\n",
       "    })\n",
       "    validation: Dataset({\n",
       "        features: ['MedInc', 'HouseAge', 'AveRooms', 'AveBedrms', 'Population', 'AveOccup', 'Latitude', 'Longitude', 'MedHouseVal'],\n",
       "        num_rows: 2000\n",
       "    })\n",
       "    test: Dataset({\n",
       "        features: ['MedInc', 'HouseAge', 'AveRooms', 'AveBedrms', 'Population', 'AveOccup', 'Latitude', 'Longitude', 'MedHouseVal'],\n",
       "        num_rows: 2000\n",
       "    })\n",
       "})"
      ]
     },
     "metadata": {},
     "output_type": "display_data"
    }
   ],
   "source": [
    "display(df)"
   ]
  },
  {
   "cell_type": "markdown",
   "metadata": {},
   "source": [
    "Como é possível notar pela célulca acima, os dados são baixados em um formato \"DatasetDict\", o qual consiste em um dicionário com um conjunto de splits. Cada chave armazena como valor um objeto do tipo dataframe e, para acessar esses dados é possível utilizar o objeto \"df\" para acessar os indíces correspondentes. Para facilitar a manipulação desses dados, esses serão convertidos para dataframes da biblioteca Pandas."
   ]
  },
  {
   "cell_type": "code",
   "execution_count": 4,
   "id": "a1d52239",
   "metadata": {},
   "outputs": [
    {
     "data": {
      "text/html": [
       "<div>\n",
       "<style scoped>\n",
       "    .dataframe tbody tr th:only-of-type {\n",
       "        vertical-align: middle;\n",
       "    }\n",
       "\n",
       "    .dataframe tbody tr th {\n",
       "        vertical-align: top;\n",
       "    }\n",
       "\n",
       "    .dataframe thead th {\n",
       "        text-align: right;\n",
       "    }\n",
       "</style>\n",
       "<table border=\"1\" class=\"dataframe\">\n",
       "  <thead>\n",
       "    <tr style=\"text-align: right;\">\n",
       "      <th></th>\n",
       "      <th>MedInc</th>\n",
       "      <th>HouseAge</th>\n",
       "      <th>AveRooms</th>\n",
       "      <th>AveBedrms</th>\n",
       "      <th>Population</th>\n",
       "      <th>AveOccup</th>\n",
       "      <th>Latitude</th>\n",
       "      <th>Longitude</th>\n",
       "      <th>MedHouseVal</th>\n",
       "    </tr>\n",
       "  </thead>\n",
       "  <tbody>\n",
       "    <tr>\n",
       "      <th>0</th>\n",
       "      <td>8.3252</td>\n",
       "      <td>41.0</td>\n",
       "      <td>6.984127</td>\n",
       "      <td>1.023810</td>\n",
       "      <td>322.0</td>\n",
       "      <td>2.555556</td>\n",
       "      <td>37.88</td>\n",
       "      <td>-122.23</td>\n",
       "      <td>4.526</td>\n",
       "    </tr>\n",
       "    <tr>\n",
       "      <th>1</th>\n",
       "      <td>8.3014</td>\n",
       "      <td>21.0</td>\n",
       "      <td>6.238137</td>\n",
       "      <td>0.971880</td>\n",
       "      <td>2401.0</td>\n",
       "      <td>2.109842</td>\n",
       "      <td>37.86</td>\n",
       "      <td>-122.22</td>\n",
       "      <td>3.585</td>\n",
       "    </tr>\n",
       "    <tr>\n",
       "      <th>2</th>\n",
       "      <td>7.2574</td>\n",
       "      <td>52.0</td>\n",
       "      <td>8.288136</td>\n",
       "      <td>1.073446</td>\n",
       "      <td>496.0</td>\n",
       "      <td>2.802260</td>\n",
       "      <td>37.85</td>\n",
       "      <td>-122.24</td>\n",
       "      <td>3.521</td>\n",
       "    </tr>\n",
       "    <tr>\n",
       "      <th>3</th>\n",
       "      <td>5.6431</td>\n",
       "      <td>52.0</td>\n",
       "      <td>5.817352</td>\n",
       "      <td>1.073059</td>\n",
       "      <td>558.0</td>\n",
       "      <td>2.547945</td>\n",
       "      <td>37.85</td>\n",
       "      <td>-122.25</td>\n",
       "      <td>3.413</td>\n",
       "    </tr>\n",
       "    <tr>\n",
       "      <th>4</th>\n",
       "      <td>3.8462</td>\n",
       "      <td>52.0</td>\n",
       "      <td>6.281853</td>\n",
       "      <td>1.081081</td>\n",
       "      <td>565.0</td>\n",
       "      <td>2.181467</td>\n",
       "      <td>37.85</td>\n",
       "      <td>-122.25</td>\n",
       "      <td>3.422</td>\n",
       "    </tr>\n",
       "    <tr>\n",
       "      <th>...</th>\n",
       "      <td>...</td>\n",
       "      <td>...</td>\n",
       "      <td>...</td>\n",
       "      <td>...</td>\n",
       "      <td>...</td>\n",
       "      <td>...</td>\n",
       "      <td>...</td>\n",
       "      <td>...</td>\n",
       "      <td>...</td>\n",
       "    </tr>\n",
       "    <tr>\n",
       "      <th>16635</th>\n",
       "      <td>4.9359</td>\n",
       "      <td>15.0</td>\n",
       "      <td>6.525316</td>\n",
       "      <td>1.034810</td>\n",
       "      <td>781.0</td>\n",
       "      <td>2.471519</td>\n",
       "      <td>35.30</td>\n",
       "      <td>-120.84</td>\n",
       "      <td>3.177</td>\n",
       "    </tr>\n",
       "    <tr>\n",
       "      <th>16636</th>\n",
       "      <td>2.5172</td>\n",
       "      <td>16.0</td>\n",
       "      <td>6.150470</td>\n",
       "      <td>1.095611</td>\n",
       "      <td>1325.0</td>\n",
       "      <td>2.076803</td>\n",
       "      <td>35.31</td>\n",
       "      <td>-120.82</td>\n",
       "      <td>2.939</td>\n",
       "    </tr>\n",
       "    <tr>\n",
       "      <th>16637</th>\n",
       "      <td>3.5870</td>\n",
       "      <td>20.0</td>\n",
       "      <td>6.027397</td>\n",
       "      <td>1.076712</td>\n",
       "      <td>996.0</td>\n",
       "      <td>2.728767</td>\n",
       "      <td>35.33</td>\n",
       "      <td>-120.80</td>\n",
       "      <td>3.300</td>\n",
       "    </tr>\n",
       "    <tr>\n",
       "      <th>16638</th>\n",
       "      <td>3.2112</td>\n",
       "      <td>20.0</td>\n",
       "      <td>6.517308</td>\n",
       "      <td>1.353846</td>\n",
       "      <td>1309.0</td>\n",
       "      <td>2.517308</td>\n",
       "      <td>35.60</td>\n",
       "      <td>-121.10</td>\n",
       "      <td>2.045</td>\n",
       "    </tr>\n",
       "    <tr>\n",
       "      <th>16639</th>\n",
       "      <td>3.1818</td>\n",
       "      <td>36.0</td>\n",
       "      <td>6.510067</td>\n",
       "      <td>1.057047</td>\n",
       "      <td>850.0</td>\n",
       "      <td>2.852349</td>\n",
       "      <td>35.29</td>\n",
       "      <td>-120.65</td>\n",
       "      <td>2.496</td>\n",
       "    </tr>\n",
       "  </tbody>\n",
       "</table>\n",
       "<p>16640 rows × 9 columns</p>\n",
       "</div>"
      ],
      "text/plain": [
       "       MedInc  HouseAge  AveRooms  AveBedrms  Population  AveOccup  Latitude  \\\n",
       "0      8.3252      41.0  6.984127   1.023810       322.0  2.555556     37.88   \n",
       "1      8.3014      21.0  6.238137   0.971880      2401.0  2.109842     37.86   \n",
       "2      7.2574      52.0  8.288136   1.073446       496.0  2.802260     37.85   \n",
       "3      5.6431      52.0  5.817352   1.073059       558.0  2.547945     37.85   \n",
       "4      3.8462      52.0  6.281853   1.081081       565.0  2.181467     37.85   \n",
       "...       ...       ...       ...        ...         ...       ...       ...   \n",
       "16635  4.9359      15.0  6.525316   1.034810       781.0  2.471519     35.30   \n",
       "16636  2.5172      16.0  6.150470   1.095611      1325.0  2.076803     35.31   \n",
       "16637  3.5870      20.0  6.027397   1.076712       996.0  2.728767     35.33   \n",
       "16638  3.2112      20.0  6.517308   1.353846      1309.0  2.517308     35.60   \n",
       "16639  3.1818      36.0  6.510067   1.057047       850.0  2.852349     35.29   \n",
       "\n",
       "       Longitude  MedHouseVal  \n",
       "0        -122.23        4.526  \n",
       "1        -122.22        3.585  \n",
       "2        -122.24        3.521  \n",
       "3        -122.25        3.413  \n",
       "4        -122.25        3.422  \n",
       "...          ...          ...  \n",
       "16635    -120.84        3.177  \n",
       "16636    -120.82        2.939  \n",
       "16637    -120.80        3.300  \n",
       "16638    -121.10        2.045  \n",
       "16639    -120.65        2.496  \n",
       "\n",
       "[16640 rows x 9 columns]"
      ]
     },
     "metadata": {},
     "output_type": "display_data"
    }
   ],
   "source": [
    "df_treino = pd.DataFrame(df['train'])\n",
    "df_teste = pd.DataFrame(df['test'])\n",
    "df_validacao = pd.DataFrame(df['validation'])\n",
    "\n",
    "display(df_treino)"
   ]
  },
  {
   "cell_type": "markdown",
   "metadata": {},
   "source": [
    "Com os conjuntos separados, é possível separar em target (\"MedHouseVal\", ou valor médio da casa) e features (demais colunas). Para facilitar posterior manipulação desses dados, esses serão convertidos para arrays numpy."
   ]
  },
  {
   "cell_type": "code",
   "execution_count": 5,
   "metadata": {},
   "outputs": [],
   "source": [
    "X_treino = df_treino.drop(columns=['MedHouseVal']).values\n",
    "y_treino = df_treino['MedHouseVal'].values.reshape(-1,1)\n",
    "\n",
    "X_teste = df_teste.drop(columns=['MedHouseVal']).values\n",
    "y_teste = df_teste['MedHouseVal'].values.reshape(-1,1)\n",
    "\n",
    "X_validacao = df_validacao.drop(columns=['MedHouseVal']).values\n",
    "y_validacao = df_validacao['MedHouseVal'].values.reshape(-1,1)"
   ]
  },
  {
   "cell_type": "markdown",
   "metadata": {},
   "source": [
    "Por fim, ainda no quesito de tratamento de dados, tantos os dados de treino quantos os dos outros dois conjuntos serão normalizados, por meio do \"MinMaxScaler\" da biblioteca Scikit-Learn."
   ]
  },
  {
   "cell_type": "markdown",
   "id": "65f79216",
   "metadata": {},
   "source": [
    "$$X_c = \\frac{X - X_{\\text{min}}}{X_{\\text{max}} - X_{\\text{min}}}$$\n",
    "\n",
    "<p style=\"text-align:center\">\n",
    "[Fórmula 1: Normalizador por mínimo e máximo]\n",
    "</p>"
   ]
  },
  {
   "cell_type": "code",
   "execution_count": 6,
   "metadata": {},
   "outputs": [],
   "source": [
    "normalizador_x = MinMaxScaler()\n",
    "X_treino = normalizador_x.fit_transform(X_treino)\n",
    "X_teste = normalizador_x.transform(X_teste)  \n",
    "X_validacao = normalizador_x.transform(X_validacao)\n",
    "\n",
    "normalizador_y = MinMaxScaler()\n",
    "y_treino = normalizador_y.fit_transform(y_treino)\n",
    "y_teste = normalizador_y.transform(y_teste) \n",
    "y_validacao = normalizador_y.transform(y_validacao)     "
   ]
  },
  {
   "cell_type": "markdown",
   "id": "0f7a333c",
   "metadata": {},
   "source": [
    "### **Treinamento da rede** 🧠"
   ]
  },
  {
   "cell_type": "markdown",
   "id": "c9ed8389",
   "metadata": {},
   "source": [
    "A partir do tratamento dos dados, podemos estabelecer o pipeline para o treinamento da rede."
   ]
  },
  {
   "cell_type": "markdown",
   "id": "07b1d7f9",
   "metadata": {},
   "source": [
    "Em primeiro lugar, podemos estabelecer a classe MLP, que herda nn.Module e estabalece o pipeline para a criação da rede neural. A rede será composta por três camadas e a função de ativação utilizada será a Rectified Linear Unit (ReLU). [Fórmula 2]"
   ]
  },
  {
   "cell_type": "markdown",
   "id": "c673d455",
   "metadata": {},
   "source": [
    "$$\n",
    "ReLU(x) = max(0, x)\n",
    "$$\n",
    "\n",
    "<p style=\"text-align:center;\">\n",
    "[Fórmula 2: Definição da ReLU]\n",
    "</p>"
   ]
  },
  {
   "cell_type": "code",
   "execution_count": 7,
   "id": "d38d5b4a",
   "metadata": {},
   "outputs": [],
   "source": [
    "class MLP(nn.Module): \n",
    "    def __init__(self, num_dados_entrada, neuronios_por_camada, num_targets):\n",
    "        super().__init__() \n",
    "        \n",
    "        self.camadas = nn.Sequential(\n",
    "            nn.Linear(num_dados_entrada, neuronios_por_camada[0]), \n",
    "            nn.ReLU(),\n",
    "            nn.Linear(neuronios_por_camada[0], neuronios_por_camada[1]),\n",
    "            nn.ReLU(),\n",
    "            # nn.Linear(neuronios_por_camada[1], num_targets),\n",
    "            nn.Linear(neuronios_por_camada[1], neuronios_por_camada[2]),\n",
    "            nn.ReLU(),\n",
    "            nn.Linear(neuronios_por_camada[2], num_targets),\n",
    "        )\n",
    "        \n",
    "    def forward(self, x): \n",
    "        x = self.camadas(x)\n",
    "        return x"
   ]
  },
  {
   "cell_type": "markdown",
   "id": "092a297a",
   "metadata": {},
   "source": [
    "A partir disso, podemos inicializar a nossa MLP. Essa será composta por 8 dados de entrada (quantidade de features), 20 neurônios na primeira camada interna, 15 neurônios na segunda camada e 10 neurônios na terceira. Por se tratar de uma rede regressora, o número de neurônios na última camada será igual a 1."
   ]
  },
  {
   "cell_type": "code",
   "execution_count": 8,
   "id": "d48bcc5d",
   "metadata": {},
   "outputs": [],
   "source": [
    "mlp = MLP(8, [20, 15, 10], 1)"
   ]
  },
  {
   "cell_type": "markdown",
   "id": "83e745b8",
   "metadata": {},
   "source": [
    "Vale ressaltar que os dados fornecidos para a rede precisam estar em formato de tensor. No contexto do Python, temos que esses são matrizes multidimensionais compostas por um único tipo de elemento - tal como os arrays do Numpy. Para essa transformação, podemos utilizar a própria biblioteca Pytorch."
   ]
  },
  {
   "cell_type": "code",
   "execution_count": 9,
   "id": "0e612266",
   "metadata": {},
   "outputs": [],
   "source": [
    "X_treino = torch.from_numpy(X_treino).float()\n",
    "X_teste = torch.from_numpy(X_teste).float()\n",
    "X_validacao = torch.from_numpy(X_validacao).float()\n",
    "\n",
    "y_treino = torch.from_numpy(y_treino).float()   \n",
    "y_teste = torch.from_numpy(y_teste).float()\n",
    "y_validacao = torch.from_numpy(y_validacao).float()"
   ]
  },
  {
   "cell_type": "markdown",
   "id": "787ba157",
   "metadata": {},
   "source": [
    "Como principal modificação para a implementação de Early Stopping, temos que o ciclo de treinamento precisará incluir o armazenamento dos valores de perda, os pesos que levaram a obtenção de cada valor e o valor de paciência - ou seja, a quantidade de épocas que iremos esperar para que o treino não seja interrompido após a estabilização da função de perda. Inicialmente, a melhor perda será inicializada como infinita (se tudo estiver minimamente certo, espera-se que qualquer perda seja melhor do que infinito...) e, consequentemente, nenhum peso será armazenado. Ao final, os parâmetros utilizados serão relativos a rede responsável pela menor perda. \n",
    "\n",
    "O otimizador utilizado será a descida do gradiente estocástico (SGD) e a taxa de aprendizado será igual a 0.01. Além disso, a função de perda utilizada será o erro quadrático médio (MSE). \n",
    "\n",
    "Vale ressaltar que, para melhor desempenho do critério de parada, os dados relativos a função de perda serão arredondados para 4 casas decimais, dado que, geralmente, após muitas casas as pequenas variações observadas podem ser flutuações oriundas do processo de backpropagation, as quais podem significar a presença de overfitting."
   ]
  },
  {
   "cell_type": "code",
   "execution_count": 10,
   "id": "414d3603",
   "metadata": {},
   "outputs": [],
   "source": [
    "otimizador = optim.SGD(mlp.parameters(), lr=10**(-3))\n",
    "fn_perda = nn.MSELoss()"
   ]
  },
  {
   "cell_type": "markdown",
   "id": "893e36d4",
   "metadata": {},
   "source": [
    "Em relação ao valor da paciência, inicialmente, o padrão será 10 épocas."
   ]
  },
  {
   "cell_type": "code",
   "execution_count": 11,
   "id": "463e24cb",
   "metadata": {},
   "outputs": [
    {
     "name": "stdout",
     "output_type": "stream",
     "text": [
      "Treinamento interrompido na época 1649\n"
     ]
    },
    {
     "data": {
      "text/plain": [
       "<All keys matched successfully>"
      ]
     },
     "execution_count": 11,
     "metadata": {},
     "output_type": "execute_result"
    }
   ],
   "source": [
    "menor_perda = float('inf')\n",
    "pesos_menor_perda = None\n",
    "paciencia = 10 \n",
    "\n",
    "loss_treino_lista = []\n",
    "loss_validacao_lista = []\n",
    "\n",
    "mlp.train() # Modo de treinamento\n",
    "\n",
    "for epoca in range(2000):\n",
    "    \n",
    "    y_pred = mlp(X_treino) # forward pass\n",
    "    \n",
    "    otimizador.zero_grad() # Zera os gradientes antes de calcular os novos\n",
    "\n",
    "    loss_treino = fn_perda(y_treino, y_pred) # Cálculo da função de perda (MSE)\n",
    "    loss_treino_lista.append(round(loss_treino.item(), 4)) # Adiciona a perda à lista\n",
    "    loss_treino.backward() # Backpropagation\n",
    "    \n",
    "    otimizador.step() # Atualização dos pesos\n",
    "\n",
    "    mlp.eval()  # Modo de validação\n",
    "    with torch.no_grad():  # Desativação do cálculo do gradiente\n",
    "        y_pred_val = mlp(X_validacao)\n",
    "        loss_validacao = fn_perda(y_validacao, y_pred_val)\n",
    "        loss_validacao_lista.append(round(loss_validacao.item(), 4))\n",
    "\n",
    "    # Early stopping\n",
    "    if loss_validacao.item() < menor_perda:\n",
    "        # Se a validação for menor do que a menor perda atual, definir como nova menor perda\n",
    "        menor_perda = round(loss_validacao.item(), 4)\n",
    "        pesos_menor_perda = copy.deepcopy(mlp.state_dict())  # E salvar os pesos do modelo       \n",
    "        paciencia = 10\n",
    "    else:\n",
    "        paciencia -= 1\n",
    "        if paciencia == 0:\n",
    "            epoca_final = epoca\n",
    "            print(f\"Treinamento interrompido na época {epoca_final}\")\n",
    "            break\n",
    "# Define a rede com os parâmetros \n",
    "mlp.load_state_dict(pesos_menor_perda) # Carrega os pesos do modelo com menor perda"
   ]
  },
  {
   "cell_type": "markdown",
   "id": "e2219622",
   "metadata": {},
   "source": [
    "Temos que o early stopping foi ativado após 1649 épocas. A partir dos das métricas armazenadas nas listas \"loss_treino_lista\" e \"loss_validacao_lista\", é possível plotar uma curva de aprendizado."
   ]
  },
  {
   "cell_type": "code",
   "execution_count": 16,
   "id": "077fe191",
   "metadata": {},
   "outputs": [
    {
     "data": {
      "image/png": "[encoded data removed]",
      "text/plain": [
       "<Figure size 640x480 with 1 Axes>"
      ]
     },
     "metadata": {},
     "output_type": "display_data"
    }
   ],
   "source": [
    "X_plot = list(range(0, 1650, 1))\n",
    "\n",
    "plt.plot(X_plot, loss_treino_lista, label=\"Treino\", color=\"blue\")\n",
    "plt.plot(X_plot, loss_validacao_lista, label=\"Validação\", color=\"orange\")\n",
    "plt.axvline(x=1639, linestyle=\"--\", color=\"r\", label=\"Início da contagem de paciência\")\n",
    "\n",
    "plt.title(\"Curva de Aprendizado\")\n",
    "plt.xlabel(\"Épocas\")\n",
    "plt.ylabel(\"Loss\")\n",
    "plt.legend()\n",
    "plt.grid(True)\n",
    "\n",
    "plt.tight_layout()\n",
    "plt.show()"
   ]
  },
  {
   "cell_type": "markdown",
   "id": "0bd8e1cf",
   "metadata": {},
   "source": [
    "Graficamente, a linha vermelha indica o início da contagem das épocas de paciência, a qual foi iniciada em x=1639. Pelo gráfico, vemos que ambas as curvas apresentam comportamentos semelhantes, sendo que a curva referente ao conjunto de treino apresentou convergência mais rapidamente (por volta da época 750). Além disso, temos que, apesar de não ser uma confirmação, temos que a curva de aprendizado não demonstra indícios de overfitting: a perda continuou diminuindo ao longo das épocas."
   ]
  },
  {
   "cell_type": "markdown",
   "id": "65c7a619",
   "metadata": {},
   "source": [
    "Com a rede treinada, para calcular o erro em relação aos dados de teste, precisamos passar os dados de X_teste para a rede."
   ]
  },
  {
   "cell_type": "code",
   "execution_count": 17,
   "id": "062b43a7",
   "metadata": {},
   "outputs": [],
   "source": [
    "with torch.no_grad(): # não calcula os gradientes locais\n",
    "    y_pred_teste = mlp(X_teste)"
   ]
  },
  {
   "cell_type": "markdown",
   "id": "2ca33231",
   "metadata": {},
   "source": [
    "Finalmente, para avaliar o modelo, podemos usar a raiz quadrada do erro quadrático médio (RMSE). Porém, antes de computar a métrica, é necessário reescalonar os dados, aplicando o \"inverse_transform\" do normalizador. "
   ]
  },
  {
   "cell_type": "code",
   "execution_count": 18,
   "id": "071882e2",
   "metadata": {},
   "outputs": [],
   "source": [
    "y_teste_sem_normalizacao = normalizador_y.inverse_transform(y_teste) \n",
    "y_pred_teste_sem_normalizacao = normalizador_y.inverse_transform(y_pred_teste.numpy())"
   ]
  },
  {
   "cell_type": "code",
   "execution_count": 25,
   "id": "6b23320a",
   "metadata": {},
   "outputs": [
    {
     "data": {
      "text/plain": [
       "array([5.00001])"
      ]
     },
     "execution_count": 25,
     "metadata": {},
     "output_type": "execute_result"
    }
   ],
   "source": [
    "max(y_teste_sem_normalizacao)"
   ]
  },
  {
   "cell_type": "code",
   "execution_count": 20,
   "id": "5122db72",
   "metadata": {},
   "outputs": [
    {
     "name": "stdout",
     "output_type": "stream",
     "text": [
      "O RMSE da rede neural é: 0.9819\n"
     ]
    }
   ],
   "source": [
    "rmse = root_mean_squared_error(y_teste_sem_normalizacao, y_pred_teste_sem_normalizacao)\n",
    "print(f\"O RMSE da rede neural é: {rmse:.4f}\")"
   ]
  },
  {
   "cell_type": "markdown",
   "id": "5dad42c9",
   "metadata": {},
   "source": [
    "Para avaliar melhor esse resultado, podemos comparar com os gráficos de distribuição dos valores do target referentes ao conjunto de teste e os valores de y preditos, por meio de um boxplot da biblioteca Seaborn."
   ]
  },
  {
   "cell_type": "code",
   "execution_count": 63,
   "id": "db8454ee",
   "metadata": {},
   "outputs": [
    {
     "data": {
      "image/png": "[encoded data removed]",
      "text/plain": [
       "<Figure size 640x480 with 1 Axes>"
      ]
     },
     "metadata": {},
     "output_type": "display_data"
    }
   ],
   "source": [
    "sns.boxplot(y_teste_sem_normalizacao, color=\"blue\")\n",
    "plt.title(\"Distribuição dos dados de y reais\", fontdict={\"fontsize\": 15})\n",
    "plt.xlabel(\"Distribuição\", fontdict={\"fontsize\": 11})\n",
    "plt.ylabel(\"MedHouseVal\", fontdict={\"fontsize\": 11})\n",
    "plt.style.use(\"default\")\n",
    "plt.show();"
   ]
  },
  {
   "cell_type": "code",
   "execution_count": 62,
   "id": "97a76c52",
   "metadata": {},
   "outputs": [
    {
     "data": {
      "image/png": "[encoded data removed]",
      "text/plain": [
       "<Figure size 640x480 with 1 Axes>"
      ]
     },
     "metadata": {},
     "output_type": "display_data"
    }
   ],
   "source": [
    "sns.boxplot(y_pred_teste_sem_normalizacao, color=\"red\")\n",
    "plt.title(\"Distribuição dos dados de y previstos\", fontdict={\"fontsize\": 15})\n",
    "plt.xlabel(\"Distribuição\", fontdict={\"fontsize\": 11})\n",
    "plt.ylabel(\"MedHouseVal\", fontdict={\"fontsize\": 11})\n",
    "plt.style.use(\"default\")\n",
    "plt.show();"
   ]
  },
  {
   "cell_type": "markdown",
   "id": "523f517f",
   "metadata": {},
   "source": [
    "Considerando que os dados de teste estão contidos em um intervalo pequeno, entre 0 e 5 (estando a maior parte entre 1 e 2) temos que o erro obtido (0.98) é alto. Além disso, é notável que a distribuição dos dados previstos é menor do que a distribuição dos dados reais. \n",
    "\n",
    "Logo, podemos concluir que o resultado da rede não foi totalmente satisfatório. Para a resolução dessa problemática, testes com ajustes de hiperparâmetros (número de camadas, quantidade de neurônios por camada, funções de ativação, taxa de aprendizado e otimizadores, por exemplo) poderia ser realizado."
   ]
  },
  {
   "cell_type": "markdown",
   "id": "4303a84f",
   "metadata": {},
   "source": [
    "### **Conclusão** 🧪"
   ]
  },
  {
   "cell_type": "markdown",
   "id": "33425178",
   "metadata": {},
   "source": [
    "Ao final do notebook, foi possível implementar Early Stopping em uma Multilayer Perceptron (MLP) construída por meio do módulo Pytorch. Como principal diferença para um treinamento simples, foi preciso adicionar no ciclo de treinamento um condicional utilizado para verificar se a função de perda referente ao conjunto de validação da época atual é menor do que o da época anterior. Caso não seja, a variável paciência - usada para definir a quantidade de épocas que a função de perda pode continuar estável (ou aumentar) antes que o treinamento seja interrompido - é decrescida em uma unidade. Se essa contagem chegar a 0 antes da quantidade de épocas acabar, o ciclo de treinamento é interrompido.\n",
    "\n",
    "Com a aplicação dessa técnica, foi possível entender de forma mais clara a importância do Early Stopping no treinamento de redes neurais, especialmente em relação à busca por modelos que evitem o sobreajuste (overfitting) e o subajuste (underfitting). Embora esse método introduza um novo hiperparâmetro — a paciência — o treinamento da rede torna-se mais eficiente, pois o número de épocas passa a ter um impacto menor no risco de overfitting. Se a paciência for bem escolhida, o treinamento será interrompido antes que o modelo se ajuste excessivamente aos dados de treino. Além disso, essa experiência proporcionou uma compreensão mais prática da utilização da curva de aprendizado, conforme abordado no notebook \"Monstrinho 3.6 - Vivendo e (nem sempre) aprendendo\"."
   ]
  },
  {
   "cell_type": "markdown",
   "id": "a213afec",
   "metadata": {},
   "source": [
    "### **Referências** 🗃️"
   ]
  },
  {
   "cell_type": "markdown",
   "id": "23c29d4e",
   "metadata": {},
   "source": [
    "[1] DSA, Equipe. Capítulo 28 - Usando Early Stopping Para Definir o Número de Épocas de Treinamento. Deep Learning Book. Disponível em: <https://www.deeplearningbook.com.br/usando-early-stopping-para-definir-o-numero-de-epocas-de-treinamento/>. Acesso em: 12 abr. 2025.\n",
    "\n",
    "[2] torch.Tensor — PyTorch 2.6 documentation. Disponível em: <https://pytorch.org/docs/stable/tensors.html>. Acesso em: 15 abr. 2025.\n",
    "\n",
    "[3] BHATTBHATT, Vrunda. A Step-by-Step Guide to Early Stopping in TensorFlow and PyTorch. Disponível em: <https://medium.com/@vrunda.bhattbhatt/a-step-by-step-guide-to-early-stopping-in-tensorflow-and-pytorch-59c1e3d0e376>. Acesso em: 12 abr. 2025.\n",
    "\n",
    "[4] YADAV, Amit. A Practical Guide to Implementing Early Stopping in PyTorch for Model Training. Disponível em: <https://medium.com/biased-algorithms/a-practical-guide-to-implementing-early-stopping-in-pytorch-for-model-training-99a7cbd46e9d>. Acesso em: 12 abr. 2025."
   ]
  }
 ],
 "metadata": {
  "kernelspec": {
   "display_name": "Python 3",
   "language": "python",
   "name": "python3"
  },
  "language_info": {
   "codemirror_mode": {
    "name": "ipython",
    "version": 3
   },
   "file_extension": ".py",
   "mimetype": "text/x-python",
   "name": "python",
   "nbconvert_exporter": "python",
   "pygments_lexer": "ipython3",
   "version": "3.11.6"
  }
 },
 "nbformat": 4,
 "nbformat_minor": 5
}
