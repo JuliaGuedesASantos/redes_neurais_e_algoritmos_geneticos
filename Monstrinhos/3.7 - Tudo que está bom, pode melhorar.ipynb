{
 "cells": [
  {
   "cell_type": "markdown",
   "id": "76dfeb6a",
   "metadata": {},
   "source": [
    "# **3.7 - Tudo que está bom, pode melhorar** 📈\n",
    "**Objetivo**: Compare o tempo de execução de três algoritmos diferentes de otimização (busca aleatória, busca em grade e algoritmos genéticos) para resolver o problema das caixas binárias. Para este exercício, considere como critério de parada para o algoritmo genético e para a busca aleatória o ato de encontrar a resposta do problema. Mantenha o algoritmo de busca em grade com o critério de parada visto na disciplina (isto é, testar todas as possibilidades).\n",
    "***"
   ]
  },
  {
   "cell_type": "markdown",
   "id": "aadd7cbe",
   "metadata": {},
   "source": [
    "### **Introdução** 💡"
   ]
  },
  {
   "cell_type": "markdown",
   "id": "efca26de",
   "metadata": {},
   "source": [
    "<p style=\"text-align:justify;\">\n",
    "A otimização é uma abordagem matemática voltada para a busca da melhor solução possível dentro de um conjunto de alternativas, respeitando os objetivos e restrições impostos pelo problema. Atualmente, diversas estratégias de otimização estão disponíveis, sendo sua aplicação dependente da natureza e complexidade do cenário analisado. [1]\n",
    "</p>\n",
    "\n",
    "Dentre essas, podemos ressaltar:\n",
    "* Busca em grade (Grid Search), que consiste no teste de todas as combinações possíveis dentro do espaço de busca;\n",
    "* Busca aleatória (Random Search), a qual visa o teste aleatório de um certo número de combinações dentro do espaço de busca;\n",
    "* Algoritmos Genéticos, inspirados na Teoria da Evolução de Darwin, utilizam mecanismos como seleção, cruzamento e mutação para evoluir uma população de soluções ao longo das gerações, buscando aproximações sucessivamente melhores.\n",
    "\n",
    "<p style=\"text-align:justify;\">\n",
    "Nesse contexto, existem diversos problemas \"brinquedo\" - simplificados e bem-definidos - que podem ser utilizados para testar o funcionamento desses algoritmos. Um dos mais conhecido é o problema das <strong>caixas binárias</strong>, no qual existem n caixas que podem ser preenchidas com 0 ou 1. O objetivo central é encontrar a configuração que possui maior soma total e, por mais que o resultado pareça trivial (obviamente o melhor resultado é que todas as caixas sejam preenchidas com o maior valor, nesse caso, 1), esse se mostra especialmente útil para estudar e comparar a eficiência dos algoritmos de otimização em cenários simples, mas representativos.\n",
    "</p>\n",
    "\n",
    "<p style=\"text-align:justify;\">\n",
    "Nesse notebook, portanto, o tempo de execução dos três algoritmos será comparado, a partir da medição do tempo de execução pelo módulo <code> time </code>, para verificar qual desses é mais efetivo para a resolução do problema das caixas binárias. O teste incluirá um range de quantidade de caixas compreendido entre 2 e 20 caixas, sendo que para cada uma delas, cinco medições serão realizadas. O resultado considerado para cada caixa será a médias dos três tempos e os resultados serão plotados em um gráfico com três curvas. \n",
    "\n",
    "Vale ressaltar que as funções relacionadas a resolução do problema estão contidas no arquivo py \"script.cb.py\". Além disso, o notebook foi executado com auxílio do HPC, o que pode justificar os pequenos tempos observados. \n",
    "</p>"
   ]
  },
  {
   "cell_type": "markdown",
   "id": "18c032d0",
   "metadata": {},
   "source": [
    "### **Importação de bibliotecas** 📚"
   ]
  },
  {
   "cell_type": "code",
   "execution_count": 1,
   "id": "c3f88b53",
   "metadata": {},
   "outputs": [],
   "source": [
    "# Módulos gerais\n",
    "import random\n",
    "from itertools import product\n",
    "import time\n",
    "import matplotlib.pyplot as plt\n",
    "import numpy as np\n",
    "\n",
    "# Funções para busca aleatória e busca em grade\n",
    "from script_cb import funcao_objetivo_cb, gene_cb_rs, cria_candidato_cb_rs\n",
    "\n",
    "# Funções para o algoritmo genético\n",
    "from script_cb import funcao_objetivo_pop_cb, populacao_cb, selecao_roleta_max, cruzamento_ponto_simples, mutacao_simples_cb"
   ]
  },
  {
   "cell_type": "markdown",
   "id": "6ac6e4d8",
   "metadata": {
    "vscode": {
     "languageId": "plaintext"
    }
   },
   "source": [
    "### **Busca aleatória** 🔍"
   ]
  },
  {
   "cell_type": "markdown",
   "id": "b092094b-0bab-48b6-a248-bc952addde05",
   "metadata": {},
   "source": [
    "Para marcar o tempo de execução da busca aleatória, é possível utilizar a função ``temporizador_busca_aleatoria``, a qual, ao receber o intervalo de quantidade de caixas, realiza a busca para cada valor contido por cinco vezes. A média desse valor é considerada uma estimativa da performance do algoritmo. Além disso, vale ressaltar que as funções \"cria_candidato_cb_rs\" e \"funcao_objetivo\" são responsáveis por, respectivamente, criar um gene - nesse caso, uma caixa -  e calcular a função objetivo para o problema das caixas binárias - que, nesse caso, consiste na soma dos valores de todas as caixas. Como saída, a função retorna duas listas: uma com as médias e outra com o desvio padrão de cada valor de caixa."
   ]
  },
  {
   "cell_type": "code",
   "execution_count": 2,
   "id": "fd9fcced",
   "metadata": {},
   "outputs": [],
   "source": [
    "def temporizador_busca_aleatoria(quant_min_caixas, quant_max_caixas):\n",
    "    \"\"\"\n",
    "    Função que simula a busca aleatória para o problema de caixas binárias para uma determinada quantidade de caixas.\n",
    "    \n",
    "    Args:\n",
    "    quant_min_caixas: quantidade mínima de caixas a serem buscadas\n",
    "    quant_max_caixas: quantidade máxima de caixas a serem buscadas\n",
    "    \n",
    "    \"\"\"\n",
    "    media_tempo = []\n",
    "    desvio_padrao = []\n",
    "   \n",
    "    for quant_caixas in range(quant_min_caixas, quant_max_caixas +1):\n",
    "        lista_estimativas_tempo = []\n",
    "        for i in range(5):\n",
    "            tempo_inicial = time.time()\n",
    "            fobj = 0\n",
    "            while fobj != quant_caixas:\n",
    "                for num_caixas in range(quant_caixas):\n",
    "                    candidato = cria_candidato_cb_rs(quant_caixas)\n",
    "                    fobj = funcao_objetivo_cb(candidato)\n",
    "            tempo_final = time.time()\n",
    "            tempo_total = tempo_final - tempo_inicial\n",
    "            lista_estimativas_tempo.append(tempo_total)\n",
    "\n",
    "        estimativa_tempo = np.mean(lista_estimativas_tempo)\n",
    "        desvio_padrao.append(np.std(lista_estimativas_tempo, ddof=1))\n",
    "                             \n",
    "        media_tempo.append(estimativa_tempo)\n",
    "                             \n",
    "        print(f\"A média do tempo para {quant_caixas} foi igual a {estimativa_tempo} +- {np.std(lista_estimativas_tempo)} segundos\")\n",
    "    return media_tempo, desvio_padrao"
   ]
  },
  {
   "cell_type": "code",
   "execution_count": 3,
   "id": "250eaebc",
   "metadata": {},
   "outputs": [
    {
     "name": "stdout",
     "output_type": "stream",
     "text": [
      "A média do tempo para 2 foi igual a 1.201629638671875e-05 +- 1.0123781800433634e-05 segundos\n",
      "A média do tempo para 3 foi igual a 3.35693359375e-05 +- 2.6569030989632948e-05 segundos\n",
      "A média do tempo para 4 foi igual a 3.7670135498046875e-05 +- 2.8893341564404953e-05 segundos\n",
      "A média do tempo para 5 foi igual a 0.00016918182373046876 +- 4.7800303028140114e-05 segundos\n",
      "A média do tempo para 6 foi igual a 0.0006853103637695313 +- 0.0006002610659543806 segundos\n",
      "A média do tempo para 7 foi igual a 0.0009462356567382813 +- 0.0009724247082644542 segundos\n",
      "A média do tempo para 8 foi igual a 0.0038116455078125 +- 0.004113561968203643 segundos\n",
      "A média do tempo para 9 foi igual a 0.011147022247314453 +- 0.005708154601199423 segundos\n",
      "A média do tempo para 10 foi igual a 0.01812577247619629 +- 0.014701339518831853 segundos\n",
      "A média do tempo para 11 foi igual a 0.10888233184814453 +- 0.07281729627789557 segundos\n",
      "A média do tempo para 12 foi igual a 0.13587865829467774 +- 0.17218512557843502 segundos\n",
      "A média do tempo para 13 foi igual a 0.3290093898773193 +- 0.26597232905749696 segundos\n",
      "A média do tempo para 14 foi igual a 0.7831179141998291 +- 0.5839998005915734 segundos\n",
      "A média do tempo para 15 foi igual a 1.2501998901367188 +- 0.7903687071698783 segundos\n",
      "A média do tempo para 16 foi igual a 3.3952566146850587 +- 3.8813232461269185 segundos\n",
      "A média do tempo para 17 foi igual a 11.729373884201049 +- 10.305927595597451 segundos\n",
      "A média do tempo para 18 foi igual a 29.47839469909668 +- 22.349814366933703 segundos\n",
      "A média do tempo para 19 foi igual a 86.29747304916381 +- 61.56711007857014 segundos\n",
      "A média do tempo para 20 foi igual a 158.8380467891693 +- 112.040532715193 segundos\n"
     ]
    }
   ],
   "source": [
    "medias_busca_aleatoria, std_busca_aleatoria = temporizador_busca_aleatoria(2, 20)"
   ]
  },
  {
   "cell_type": "markdown",
   "id": "04b53391",
   "metadata": {},
   "source": [
    "### **Busca em grade** 🌐"
   ]
  },
  {
   "cell_type": "markdown",
   "id": "1ed3bb90-9c21-4862-87de-3b57abc23bee",
   "metadata": {},
   "source": [
    "Utilizando o mesmo princípio da função anterior, a função ``temporizador_busca_em_grade`` realiza a busca em grade para uma quantidade de caixas definida em um intervalo por 5 vezes e fornece como métrica a média e o desvio padrão dessas medições. Para a realização da busca em grade, a função ``product`` do módulo itertools é utilizado e, como função objetivo, a função ``funcao_objetivo_cb`` é novamente utilizada."
   ]
  },
  {
   "cell_type": "code",
   "execution_count": 4,
   "id": "432781f1-5fc2-4080-8268-57c7d12c5df0",
   "metadata": {},
   "outputs": [],
   "source": [
    "def temporizador_busca_em_grade(quant_min_caixas, quant_max_caixas):\n",
    "    \"\"\"\n",
    "    Função que simula a busca em grade para o problema de caixas binárias para uma determinada quantidade de caixas.\n",
    "    \n",
    "    Args:\n",
    "    quant_min_caixas: quantidade mínima de caixas a serem buscadas\n",
    "    quant_max_caixas: quantidade máxima de caixas a serem buscadas\n",
    "    \n",
    "    \"\"\"\n",
    "    media_tempo = []\n",
    "    desvio_padrao = []\n",
    "   \n",
    "    for quant_caixas in range(quant_min_caixas, quant_max_caixas +1):\n",
    "        lista_estimativas_tempo = []\n",
    "        for i in range(5):\n",
    "            tempo_inicial = time.time()\n",
    "\n",
    "            for candidato in product([0, 1], repeat=quant_caixas):\n",
    "                fobj = funcao_objetivo_cb(candidato)\n",
    "            tempo_final = time.time()\n",
    "            tempo_total = tempo_final - tempo_inicial\n",
    "            lista_estimativas_tempo.append(tempo_total)\n",
    "\n",
    "        estimativa_tempo = np.mean(lista_estimativas_tempo)\n",
    "        desvio_padrao.append(np.std(lista_estimativas_tempo, ddof=1))\n",
    "                             \n",
    "        media_tempo.append(estimativa_tempo)\n",
    "                             \n",
    "        print(f\"A média do tempo para {quant_caixas} foi igual a {estimativa_tempo} +- {np.std(lista_estimativas_tempo)} segundos\")\n",
    "    return media_tempo, desvio_padrao\n",
    "    "
   ]
  },
  {
   "cell_type": "code",
   "execution_count": 5,
   "id": "39263114-e423-42dd-ab34-693da93a85ba",
   "metadata": {},
   "outputs": [
    {
     "name": "stdout",
     "output_type": "stream",
     "text": [
      "A média do tempo para 2 foi igual a 1.9073486328125e-06 +- 2.0342568404866737e-06 segundos\n",
      "A média do tempo para 3 foi igual a 1.33514404296875e-06 +- 8.996945507103542e-07 segundos\n",
      "A média do tempo para 4 foi igual a 1.6689300537109375e-06 +- 5.43678009557313e-07 segundos\n",
      "A média do tempo para 5 foi igual a 3.0994415283203125e-06 +- 5.642013342952362e-07 segundos\n",
      "A média do tempo para 6 foi igual a 5.91278076171875e-06 +- 6.289914111267528e-07 segundos\n",
      "A média do tempo para 7 foi igual a 1.201629638671875e-05 +- 8.869683855885636e-07 segundos\n",
      "A média do tempo para 8 foi igual a 2.5320053100585938e-05 +- 1.228723404572022e-06 segundos\n",
      "A média do tempo para 9 foi igual a 5.2928924560546875e-05 +- 2.148414674009096e-06 segundos\n",
      "A média do tempo para 10 foi igual a 0.00011224746704101563 +- 2.5696170015921553e-06 segundos\n",
      "A média do tempo para 11 foi igual a 0.00023293495178222656 +- 4.304759522740314e-06 segundos\n",
      "A média do tempo para 12 foi igual a 0.0004998683929443359 +- 9.757817395740088e-06 segundos\n",
      "A média do tempo para 13 foi igual a 0.0010282039642333985 +- 2.283676650528975e-05 segundos\n",
      "A média do tempo para 14 foi igual a 0.002113151550292969 +- 7.980057540637317e-05 segundos\n",
      "A média do tempo para 15 foi igual a 0.00427098274230957 +- 4.494766304673434e-05 segundos\n",
      "A média do tempo para 16 foi igual a 0.008765935897827148 +- 3.615891101652838e-05 segundos\n",
      "A média do tempo para 17 foi igual a 0.01819896697998047 +- 0.00012179087528759009 segundos\n",
      "A média do tempo para 18 foi igual a 0.0377439022064209 +- 0.00011455972782585381 segundos\n",
      "A média do tempo para 19 foi igual a 0.07795977592468262 +- 0.0002905844233643679 segundos\n",
      "A média do tempo para 20 foi igual a 0.16347236633300782 +- 0.0003301660701654404 segundos\n"
     ]
    }
   ],
   "source": [
    "medias_busca_em_grade, std_busca_em_grade = temporizador_busca_em_grade(2, 20)"
   ]
  },
  {
   "cell_type": "markdown",
   "id": "24422761",
   "metadata": {},
   "source": [
    "### **Algoritmos Genéticos** 🧬"
   ]
  },
  {
   "cell_type": "markdown",
   "id": "20b68d68-d734-4be1-a29d-54666a735566",
   "metadata": {},
   "source": [
    "Utilizando também os princípios das funções anteriores, a função ``temporizador_algoritmo_genetico`` apresenta alguns argumentos adicionais para a implementação do algoritmo genético (chance_cruzamento, chance_mutacao_tamanho_populacao). Para a construção do algoritmo genético, funções presentes no arquivo \"script_cb.py\" são utilizadas, sendo essas: \"populacao_cb\", para a criação da população inicial com o número de indivíduos definido pelo argumento \"tamanho_população\"; \"funcao_objetivo_pop_cb\", que computa a função fitness - soma do valor de todas as caixas - para cada indivíduo de uma popução; \"selecao_roleta_max\", realiza a operação de seleção dos indivíduos aptos pelo método da roleta; \"cruzamento_ponto_simples\", que realiza a operação de cruzamento pelo método de ponto simples (com base na variável de chance_cruzamento); \"mutacao_simples_cb\", que é responsável pela operação de mutação, baseada no argumento chance_mutacao. "
   ]
  },
  {
   "cell_type": "markdown",
   "id": "0fb3e0e8-9ac5-45b7-8adc-78584f4b094c",
   "metadata": {},
   "source": [
    "Para esse teste, as variáveis para a composição do algoritmo genético, serão: 0.5 para a chance de cruzamento, 0.05 para a chance de mutação e 10 para o tamanho da população."
   ]
  },
  {
   "cell_type": "code",
   "execution_count": 6,
   "id": "9640f41d-8f95-495f-9368-d3133ebcbf2a",
   "metadata": {},
   "outputs": [],
   "source": [
    "chance_cruzamento = 0.5\n",
    "chance_mutacao = 0.05\n",
    "tamanho_populacao = 10"
   ]
  },
  {
   "cell_type": "code",
   "execution_count": 9,
   "id": "2d354cb3-9894-4034-a6ef-9d82d7f624ec",
   "metadata": {},
   "outputs": [],
   "source": [
    "def temporizador_algoritmo_genetico(quant_min_caixas, quant_max_caixas, chance_cruzamento, chance_mutacao, tamanho_populacao):\n",
    "    \"\"\"\n",
    "    Função que simula a busca em grade para o problema de caixas binárias para uma determinada quantidade de caixas.\n",
    "    \n",
    "    Args:\n",
    "    quant_min_caixas: quantidade mínima de caixas a serem buscadas\n",
    "    quant_max_caixas: quantidade máxima de caixas a serem buscadas\n",
    "    chance_cruzamento: chance da operação cruzamento ocorrer\n",
    "    chance_mutacao: chance da operação de mutação ocorrer\n",
    "    tamanho_populacao: quantidade de indivíduos por geração\n",
    "    \"\"\"\n",
    "    media_tempo = []\n",
    "    desvio_padrao = []\n",
    "   \n",
    "    for quant_caixas in range(quant_min_caixas, quant_max_caixas +1):\n",
    "        \n",
    "        for i in range(5):\n",
    "            lista_estimativas_tempo = []\n",
    "            tempo_inicial = time.time()\n",
    "            populacao = populacao_cb(tamanho_populacao, quant_caixas)\n",
    "\n",
    "            hall_da_fama = []\n",
    "\n",
    "            maior_fitness = 0\n",
    "            while maior_fitness != quant_caixas:\n",
    "                \n",
    "                fitness = funcao_objetivo_pop_cb(populacao)        \n",
    "                selecionados = selecao_roleta_max(populacao, fitness)\n",
    "                \n",
    "                proxima_geracao = []\n",
    "                for pai, mae in zip(selecionados[::2], selecionados[1::2]):\n",
    "                    individuo1, individuo2 = cruzamento_ponto_simples(pai, mae, chance_cruzamento) \n",
    "                    proxima_geracao.append(individuo1)\n",
    "                    proxima_geracao.append(individuo2)\n",
    "                \n",
    "                mutacao_simples_cb(proxima_geracao, chance_mutacao)\n",
    "                \n",
    "                fitness = funcao_objetivo_pop_cb(proxima_geracao)\n",
    "                    \n",
    "                maior_fitness = max(fitness)\n",
    "                indice = fitness.index(maior_fitness)\n",
    "                hall_da_fama.append(proxima_geracao[indice])    \n",
    "                \n",
    "                populacao = proxima_geracao\n",
    "\n",
    "                fitness = funcao_objetivo_pop_cb(hall_da_fama)\n",
    "                maior_fitness = max(fitness)\n",
    "            \n",
    "            tempo_final = time.time()\n",
    "            tempo_total = tempo_final - tempo_inicial\n",
    "            lista_estimativas_tempo.append(tempo_total)\n",
    "                \n",
    "        estimativa_tempo = np.mean(lista_estimativas_tempo)\n",
    "        desvio_padrao.append(np.std(lista_estimativas_tempo, ddof=1))\n",
    "                             \n",
    "        media_tempo.append(estimativa_tempo)\n",
    "                             \n",
    "        print(f\"A média do tempo para {quant_caixas} foi igual a {estimativa_tempo} +- {np.std(lista_estimativas_tempo)} segundos\")\n",
    "    return media_tempo, desvio_padrao"
   ]
  },
  {
   "cell_type": "code",
   "execution_count": 10,
   "id": "e309ce73-fa33-4a78-a1be-6d9efc76777e",
   "metadata": {},
   "outputs": [
    {
     "name": "stderr",
     "output_type": "stream",
     "text": [
      "/home/julia24002/anaconda3/envs/ilumpy/lib/python3.9/site-packages/numpy/core/_methods.py:206: RuntimeWarning: Degrees of freedom <= 0 for slice\n",
      "  ret = _var(a, axis=axis, dtype=dtype, out=out, ddof=ddof,\n",
      "/home/julia24002/anaconda3/envs/ilumpy/lib/python3.9/site-packages/numpy/core/_methods.py:198: RuntimeWarning: invalid value encountered in scalar divide\n",
      "  ret = ret.dtype.type(ret / rcount)\n"
     ]
    },
    {
     "name": "stdout",
     "output_type": "stream",
     "text": [
      "A média do tempo para 2 foi igual a 5.2928924560546875e-05 +- 0.0 segundos\n",
      "A média do tempo para 3 foi igual a 3.218650817871094e-05 +- 0.0 segundos\n",
      "A média do tempo para 4 foi igual a 3.814697265625e-05 +- 0.0 segundos\n",
      "A média do tempo para 5 foi igual a 4.029273986816406e-05 +- 0.0 segundos\n",
      "A média do tempo para 6 foi igual a 0.00013303756713867188 +- 0.0 segundos\n",
      "A média do tempo para 7 foi igual a 5.1975250244140625e-05 +- 0.0 segundos\n",
      "A média do tempo para 8 foi igual a 0.00014638900756835938 +- 0.0 segundos\n",
      "A média do tempo para 9 foi igual a 0.00044155120849609375 +- 0.0 segundos\n",
      "A média do tempo para 10 foi igual a 0.0005843639373779297 +- 0.0 segundos\n",
      "A média do tempo para 11 foi igual a 0.0005376338958740234 +- 0.0 segundos\n",
      "A média do tempo para 12 foi igual a 0.0010318756103515625 +- 0.0 segundos\n",
      "A média do tempo para 13 foi igual a 0.00465083122253418 +- 0.0 segundos\n",
      "A média do tempo para 14 foi igual a 0.03480100631713867 +- 0.0 segundos\n",
      "A média do tempo para 15 foi igual a 0.010860204696655273 +- 0.0 segundos\n",
      "A média do tempo para 16 foi igual a 0.05520796775817871 +- 0.0 segundos\n",
      "A média do tempo para 17 foi igual a 0.09111404418945312 +- 0.0 segundos\n",
      "A média do tempo para 18 foi igual a 0.1723344326019287 +- 0.0 segundos\n",
      "A média do tempo para 19 foi igual a 1.4818005561828613 +- 0.0 segundos\n",
      "A média do tempo para 20 foi igual a 36.14486122131348 +- 0.0 segundos\n"
     ]
    }
   ],
   "source": [
    "medias_algoritmo_genetico, std_algoritmo_genetico = temporizador_algoritmo_genetico(2, 20, chance_cruzamento, chance_mutacao, tamanho_populacao)"
   ]
  },
  {
   "cell_type": "markdown",
   "id": "39b44742-20d6-4e9d-9a20-00022bb46803",
   "metadata": {},
   "source": [
    "### **Análise dos resultados** 📊"
   ]
  },
  {
   "cell_type": "markdown",
   "id": "254ce224-852c-4757-85fe-a0e344edf918",
   "metadata": {},
   "source": [
    "Para a análise dos resultados, um gráfico scatter relativo a cada algoritmo será plotado. A quantidade de caixas e o respectivo tempo serão definidos como, respectivamente, os eixos x e y. Enquanto isso, o desvio padrão será definido como o erro de cada medição."
   ]
  },
  {
   "cell_type": "code",
   "execution_count": 11,
   "id": "f03210e7-41bc-4da1-b90b-999ac4e3fc77",
   "metadata": {},
   "outputs": [
    {
     "data": {
      "text/plain": [
       "[2, 3, 4, 5, 6, 7, 8, 9, 10, 11, 12, 13, 14, 15, 16, 17, 18, 19, 20]"
      ]
     },
     "execution_count": 11,
     "metadata": {},
     "output_type": "execute_result"
    }
   ],
   "source": [
    "X_grafico = list(range(2,21))\n",
    "X_grafico"
   ]
  },
  {
   "cell_type": "code",
   "execution_count": 12,
   "id": "8b7b4f86-7378-4f31-b2a6-962d5e9624f3",
   "metadata": {},
   "outputs": [
    {
     "data": {
      "image/png": "[encoded data removed]",
      "text/plain": [
       "<Figure size 640x480 with 1 Axes>"
      ]
     },
     "metadata": {},
     "output_type": "display_data"
    }
   ],
   "source": [
    "plt.errorbar(X_grafico, medias_busca_aleatoria, yerr=std_busca_aleatoria, fmt='o', capsize=5, label='Busca Aleatória', color='blue')\n",
    "plt.errorbar(X_grafico, medias_busca_em_grade, yerr=std_busca_em_grade, fmt='o', capsize=5, label='Busca em grade', color='green')\n",
    "plt.errorbar(X_grafico, medias_algoritmo_genetico, yerr=std_algoritmo_genetico, fmt='o', capsize=5, label='Algoritmo Genético', color='red')\n",
    "\n",
    "plt.legend()\n",
    "plt.ylabel(\"Segundos\")\n",
    "plt.xlabel(\"Quantidade de Caixas\")\n",
    "plt.show()"
   ]
  },
  {
   "cell_type": "markdown",
   "id": "f7ac755f-9348-40b8-bc4e-4454f9790c7f",
   "metadata": {},
   "source": [
    "Em relação a cada algoritmo, temos que:\n",
    "\n",
    "<p style=\"text-align:justify;\">\n",
    "* A busca aleatória foi o algoritmo que apresentou o pior desempenho, ou seja, os maiores tempos. Isso é justificado: esse tipo de algoritmo geralmente é utilizado para encontrar soluções próximas a solução ótima. Como nesse caso o critério de parada era apenas o encontro da melhor solução, o algoritmo não apresentou desempenho satistfatório. Ademais, em relação ao desvio padrão, temos que esse é o maior dentre os tipos, o que também se relaciona com a natureza da busca aleatória: Por ser um algoritmo não determinístico, o tempo utilizado para a encontrar a solução ótima pode variar bastante entre as 5 tentativas;\n",
    "</p>\n",
    "\n",
    "<p style=\"text-align:justify;\">\n",
    "* O algoritmo genético, com a configuração definida, apresentou bom desempenho, com aumento notável do tempo de execução apenas para a última quantidade de caixas; Apesar de depender da aleatoriedade, o algoritmo apresentou pouca variação no tempo de execução. Considerando que o algoritmo é não determinístico, uma mudança nos hiperparâmetros poderia alterar (diminuindo ou alterando) o tempo de convergência. \n",
    "</p>\n",
    "\n",
    "<p style=\"text-align:justify;\">\n",
    "* A busca em grade, por outro lado, apresentou o melhor desempenho, com tempos semelhantes para todas as quantidades de caixas. Nesse sentido, apesar de contraintuitivo - visto que ele avalia todas as combinações possíveis - esse algoritmo apresenta-se como a melhor alternativa para as quantidades de caixas utilizadas. Isso provavelmente se deve ao pequeno espaço de busca considerado (apesar de 2^20 ser um grande número, em termos computacionais, esse cálculo pode ser menos custoso do que o uso de algoritmos que dependem de aleatoriedade para encontrar a solução ótima). Assim como o algoritmo genético, apresentou pequena variação dentre os testes realizados, o que também é justificado: por ser um algoritmo determinístico, grandes variações nos tempos de execução não são esperadas. \n",
    "</p>\n",
    "\n",
    "Ou seja, para os tamanhos testados, a busca em grade mostrou-se a alternativa mais eficiente para a resolução do problema das caixas binárias."
   ]
  },
  {
   "cell_type": "markdown",
   "id": "42472cd3",
   "metadata": {},
   "source": [
    "### **Conclusão** 🕰️"
   ]
  },
  {
   "cell_type": "markdown",
   "id": "a88a2016",
   "metadata": {},
   "source": [
    "A partir da análise dos tempos de execução, foi possível concluir que a busca em grade apresentou-se como melhor forma de resolução para o problema das caixas binárias, considerando o número de caixas analisado. Isso pode ser justificado pelo tamanho do espaço de busca: apesar de, no caso de 20 caixas (maior quantidade analisada), esse ser grande ($2^{20}$), o custo computacional para percorrer todas essas possibilidades pode ser menor do que depender da aleatoriedade em algoritmos não determinísticos (como algoritmos genéticos e busca aleatória) para encontrar a solução ótima. Ou seja, é possível concluir que a escolha do algoritmo depende diretamente do problema e, consequentemente, do espaço de busca definido. "
   ]
  },
  {
   "cell_type": "markdown",
   "id": "a2d1e273",
   "metadata": {},
   "source": [
    "### **Referências** 🗃️\n",
    "\n",
    "[1] What Is Optimization Modeling? | IBM. Disponível em: <https://www.ibm.com/think/topics/optimization-model>. Acesso em: 4 maio 2025.\n",
    "\n",
    "[2] STALFORT, Jack. Hyperparameter tuning using Grid search and Random search. Disponível em: <https://medium.com/@jackstalfort/hyperparameter-tuning-using-grid-search-and-random-search-f8750a464b35>. Acesso em: 6 maio 2025.\n",
    "\n",
    "[3] STROSKI, Pedro Ney. O que é algoritmo genético? Electrical e-Library.com. Disponível em: <https://www.electricalelibrary.com/2018/04/13/o-que-e-algoritmo-genetico/>. Acesso em: 6 maio 2025.\n",
    "\n"
   ]
  }
 ],
 "metadata": {
  "kernelspec": {
   "display_name": "Python 3 (ipykernel)",
   "language": "python",
   "name": "python3"
  },
  "language_info": {
   "codemirror_mode": {
    "name": "ipython",
    "version": 3
   },
   "file_extension": ".py",
   "mimetype": "text/x-python",
   "name": "python",
   "nbconvert_exporter": "python",
   "pygments_lexer": "ipython3",
   "version": "3.9.19"
  }
 },
 "nbformat": 4,
 "nbformat_minor": 5
}
