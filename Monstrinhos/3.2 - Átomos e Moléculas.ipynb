{
 "cells": [
  {
   "cell_type": "markdown",
   "metadata": {},
   "source": [
    "# **3.2 - Átomos e Moléculas** ⚛️☕\n",
    "**Objetivo**: Utilize classes de Python para modelar elementos químicos e moléculas.\n",
    "***"
   ]
  },
  {
   "cell_type": "markdown",
   "metadata": {},
   "source": [
    "### **Introdução** 💡"
   ]
  },
  {
   "cell_type": "markdown",
   "metadata": {},
   "source": [
    "<p style=\"text-align: justify;\">\n",
    "Segundo a referência [1], uma mólecula pode ser definida como \"um grupo de dois ou mais átomos que formam a menor unidade identificável na qual uma substância pura pode ser dividida e ainda reter a composição e as propriedades químicas dessa substância\". Ou seja, temos que para a formação de uma mólecula, precisamos da junção de uma determinada quantidade de átomos (de elementos iguais ou distintos), as quais contribuem para a determinação de suas propriedades. \n",
    "\n",
    "Computacionalmente, considerando que cada átomo pode ser considerado como um \"objeto\" integrante de um grupo maior (elementos químicos) - no qual todos possuem propriedades em comum (como símbolo, número atômico e peso atômico) - é possível considerar que esses podem ser representados por uma classe (Elemento), que pode auxiliar na construção de outra classe (Molécula) para a representação dos compostos que podem ser formados (e suas respectivas características, como peso atômico). \n",
    "\n",
    "Nesse sentido, esse trabalho visa a criação de duas classes (Elemento e Molécula) para a representação de moléculas. Como exemplo, a molécula de cafeína (C₈H₁₀N₄O₂, também denominada quimicamente de 1,3,7-trimetilxantina) será representada [2] e as respectivas propriedades atômicas serão retiradas da plataforma Ptable. [3]\n",
    "\n",
    "\n",
    "</p>\n"
   ]
  },
  {
   "attachments": {
    "image.png": {
     "image/png": "[encoded data removed]"
    }
   },
   "cell_type": "markdown",
   "metadata": {},
   "source": [
    "![image.png](attachment:image.png)\n",
    "\n",
    "[Fórmula estrutural da molécula de cafeína][2]"
   ]
  },
  {
   "cell_type": "markdown",
   "metadata": {},
   "source": [
    "### **Classe Elemento** ⚛️"
   ]
  },
  {
   "cell_type": "markdown",
   "metadata": {},
   "source": [
    "Em primeiro lugar, é necessário criar a classe Elemento, a qual inicializa um elemento como objeto a partir do fornecimento de argumentos obrigatórios relacionados a propriedades atômicas, como símbolo do elementos, número atômico e peso atômico. Dependendo da aplicação desejada, outras propriedades, como ponto de fusão, ponto de ebulição e raio estimado, poderão ser adicionadas como argumentos não obrigatórios."
   ]
  },
  {
   "cell_type": "code",
   "execution_count": 1,
   "metadata": {},
   "outputs": [],
   "source": [
    "class Elemento:\n",
    "    def __init__(self, simbolo, num_atomico, peso_atomico, ponto_fusao=None, ponto_ebulicao=None, raio_estimado=None):\n",
    "        \"\"\"Inicialização de um objeto elemento\n",
    "        \n",
    "        Args:\n",
    "        simbolo: abreviatura de uma ou duas letras que representa o elemento químico \n",
    "        num_atomico: número de prótons presentes no núcleo do elemento\n",
    "        peso_atomico: massa do átomo\n",
    "        ponto_fusao = temperatura (K) na qual o elemento passa do estado sólido para o estado líquido\n",
    "        ponto_ebulicao = temperatura (K) na qual o elemento passa do estado líquido para o estado gasoso\n",
    "        raio_estimado = distância entre o núcleo do átomo e sua camada mais externa\n",
    "        \n",
    "        \"\"\"\n",
    "        self.simbolo = simbolo\n",
    "        self.num_atomico = num_atomico\n",
    "        self.peso_atomico = peso_atomico\n",
    "        self.ponto_fusao = ponto_fusao\n",
    "        self.ponto_ebulicao = ponto_ebulicao\n",
    "        self.raio_estimado = raio_estimado"
   ]
  },
  {
   "cell_type": "markdown",
   "metadata": {},
   "source": [
    "Considerando as aplicações que serão implementadas pela classe Molécula, as características opcionais não serão necessárias. Logo, para a inicialização dos objetos referentes aos elementos integrantes da cafeína (carbono, hidrogênio, nitrogênio e oxigênio), apenas o símbolo, número atômico e peso atômico serão utilizados."
   ]
  },
  {
   "cell_type": "code",
   "execution_count": 2,
   "metadata": {},
   "outputs": [],
   "source": [
    "C = Elemento(\"C\", 6, 12.011)\n",
    "H = Elemento(\"H\", 1, 1.008)\n",
    "N = Elemento(\"N\", 7, 14.007)\n",
    "O = Elemento(\"O\", 8, 15.999)"
   ]
  },
  {
   "cell_type": "markdown",
   "metadata": {},
   "source": [
    "### **Classe Molécula** ☕"
   ]
  },
  {
   "cell_type": "markdown",
   "metadata": {},
   "source": [
    "<p style=\"text-align: justify;\">\n",
    "Após a criação da classe Elemento, a classe Molecula pode ser criada. Para a inicialização do objeto, é preciso utilizar um dicionário, o qual contém como chave um objeto da classe Elemento e como valor a quantidade de átomos desse elemento presentes na molécula. Como outros métodos, a classe possui a função \"__repr__\", que representa a fórmula química por meio do Sistema de Hill (o qual é um método de representação de fórmulas químicas no qual em primeiro lugar, é representado o carbono, em segundo, o hidrogênio e, após esses dois, os demais elementos em ordem alfabética [4]), e a função \"peso_atomico\", que calcula o peso atômico da molécula por meio do peso atômico de cada elemento (multiplicado pela quantidade de átomos desse elemento).\n",
    "</p>"
   ]
  },
  {
   "cell_type": "code",
   "execution_count": 3,
   "metadata": {},
   "outputs": [],
   "source": [
    "\n",
    "class Molecula:\n",
    "    def __init__(self, dicionario):\n",
    "        \"\"\"Inicializa a molécula\n",
    "        \n",
    "        Args:\n",
    "        dicionario: dicionário que contém como chave um objeto da classe Elemento e como valor a quantidade de átomos desse elemento presentes na molécula.\n",
    "        \"\"\"\n",
    "        self.elementos = list(dicionario.keys())\n",
    "        self.quantidade = list(dicionario.values())\n",
    "        self.dicionario = dicionario  \n",
    "\n",
    "    def __repr__(self):\n",
    "        \"\"\"Representa a fórmula química da molécula pelo Sistema de Hill\"\"\" \n",
    "        \n",
    "        simb_elementos = [obj.simbolo for obj in self.elementos]\n",
    "        formula_quimica = \"\"\n",
    "        \n",
    "        if \"C\" in simb_elementos:\n",
    "            elemento_C = [obj for obj in self.elementos if obj.simbolo == \"C\"][0]\n",
    "            formula_quimica += \"C\" + str(self.dicionario[elemento_C])\n",
    "            simb_elementos.remove(\"C\")\n",
    "            \n",
    "        if \"H\" in simb_elementos:\n",
    "            elemento_H = [obj for obj in self.elementos if obj.simbolo == \"H\"][0]\n",
    "            formula_quimica += \"H\" + str(self.dicionario[elemento_H])\n",
    "            simb_elementos.remove(\"H\")\n",
    "        \n",
    "        for simbolo in sorted(simb_elementos):\n",
    "            elemento = [obj for obj in self.elementos if obj.simbolo == simbolo][0]\n",
    "            formula_quimica += elemento.simbolo + str(self.dicionario[elemento])\n",
    "                     \n",
    "        return f\"A fórmula química da molécula criada é {formula_quimica}\"\n",
    "    \n",
    "    def peso_atomico(self):\n",
    "        \"\"\"Calcula o peso atômico da molécula\"\"\"\n",
    "        peso_molecular = sum(elemento.peso_atomico * quantidade for elemento, quantidade in zip(self.elementos, self.quantidade))\n",
    "        return peso_molecular\n"
   ]
  },
  {
   "cell_type": "markdown",
   "metadata": {},
   "source": [
    "Para a testagem da classe, o dicionário com as quantidades de cada elemento, juntamente com os objetos criados anteriormente, serão utilizados."
   ]
  },
  {
   "cell_type": "code",
   "execution_count": 4,
   "metadata": {},
   "outputs": [],
   "source": [
    "cafeina = {\n",
    "    C: 8,\n",
    "    H: 10,\n",
    "    N: 4, \n",
    "    O: 2\n",
    "}"
   ]
  },
  {
   "cell_type": "code",
   "execution_count": 5,
   "metadata": {},
   "outputs": [],
   "source": [
    "molecula_cafeina = Molecula(cafeina)"
   ]
  },
  {
   "cell_type": "markdown",
   "metadata": {},
   "source": [
    "Agora, os métodos podem ser utilizados."
   ]
  },
  {
   "cell_type": "code",
   "execution_count": 6,
   "metadata": {},
   "outputs": [
    {
     "data": {
      "text/plain": [
       "A fórmula química da molécula criada é C8H10N4O2"
      ]
     },
     "execution_count": 6,
     "metadata": {},
     "output_type": "execute_result"
    }
   ],
   "source": [
    "molecula_cafeina"
   ]
  },
  {
   "cell_type": "markdown",
   "metadata": {},
   "source": [
    "O método dunder \"__ repr__\" foi eficiente para a representação da molécula, visto que a fórmula química fornecida é condizente com a representação usual dessa."
   ]
  },
  {
   "cell_type": "code",
   "execution_count": 7,
   "metadata": {},
   "outputs": [
    {
     "data": {
      "text/plain": [
       "194.194"
      ]
     },
     "execution_count": 7,
     "metadata": {},
     "output_type": "execute_result"
    }
   ],
   "source": [
    "molecula_cafeina.peso_atomico()"
   ]
  },
  {
   "cell_type": "markdown",
   "metadata": {},
   "source": [
    "Além disso, segundo a referência [2], o peso atômico da cafeína 194.19 g/mol, o que condiz com o resultado fornecido pelo método."
   ]
  },
  {
   "cell_type": "markdown",
   "metadata": {},
   "source": [
    "### **Extra: Biblioteca Mendeleev** 🧑🏻‍🔬"
   ]
  },
  {
   "cell_type": "markdown",
   "metadata": {},
   "source": [
    "Vale mencionar que a ideia de representar elementos por meio de classes é algo já consolidado, sendo que existem bibliotecas voltadas a esse fim. Um dos exemplos mais conhecidos é a biblioteca Mendeleev. [5]"
   ]
  },
  {
   "cell_type": "code",
   "execution_count": 8,
   "metadata": {},
   "outputs": [],
   "source": [
    "from mendeleev import C, H, O, N"
   ]
  },
  {
   "cell_type": "markdown",
   "metadata": {},
   "source": [
    "Os elementos também poder ser inicializados pelo método element, o qual pode receber como entrada o símbolo do elemento, o número atômico ou o nome do elemento (em inglês):\n",
    "```python\n",
    "from mendeleev import element\n",
    "C, H, O= element([\"C\", 1, \"Oxygen\"])\n",
    "````"
   ]
  },
  {
   "cell_type": "markdown",
   "metadata": {},
   "source": [
    "Com esse módulo, é possível importar cada elemento da tabela periódica e verificar suas principais características. Podemos utilizar o carbono para isso:"
   ]
  },
  {
   "cell_type": "code",
   "execution_count": 9,
   "metadata": {},
   "outputs": [
    {
     "data": {
      "text/plain": [
       "Element(\n",
       "\tabundance_crust=200.0,\n",
       " \tabundance_sea=28.0,\n",
       " \tannotation='density(graphite), ',\n",
       " \tatomic_number=6,\n",
       " \tatomic_radius=70.0,\n",
       " \tatomic_radius_rahm=190.0,\n",
       " \tatomic_volume=5.3,\n",
       " \tatomic_weight=12.011,\n",
       " \tatomic_weight_uncertainty=None,\n",
       " \tblock='p',\n",
       " \tc6=46.6,\n",
       " \tc6_gb=47.9,\n",
       " \tcas='7440-44-0',\n",
       " \tcovalent_radius_bragg=77.0,\n",
       " \tcovalent_radius_cordero=73.0,\n",
       " \tcovalent_radius_pyykko=75.0,\n",
       " \tcovalent_radius_pyykko_double=67.0,\n",
       " \tcovalent_radius_pyykko_triple=60.0,\n",
       " \tcpk_color='#c8c8c8',\n",
       " \tdensity=2.2,\n",
       " \tdescription='Carbon is a member of group 14 of the periodic table. It has three allotropic forms of it, diamonds, graphite and fullerite. Carbon-14 is commonly used in radioactive dating. Carbon occurs in all organic life and is the basis of organic chemistry. Carbon has the interesting chemical property of being able to bond with itself, and a wide variety of other elements.',\n",
       " \tdipole_polarizability=11.3,\n",
       " \tdipole_polarizability_unc=0.2,\n",
       " \tdiscoverers='Known to the ancients',\n",
       " \tdiscovery_location=None,\n",
       " \tdiscovery_year=None,\n",
       " \tec=<ElectronicConfiguration(conf=\"1s2 2s2 2p2\")>,\n",
       " \teconf='[He] 2s2 2p2',\n",
       " \telectron_affinity=1.262119,\n",
       " \ten_allen=15.05,\n",
       " \ten_ghosh=0.22477600000000003,\n",
       " \ten_pauling=2.55,\n",
       " \tevaporation_heat=None,\n",
       " \tfusion_heat=None,\n",
       " \tgas_basicity=None,\n",
       " \tgeochemical_class='semi-volatile',\n",
       " \tglawe_number=87,\n",
       " \tgoldschmidt_class='atmophile',\n",
       " \tgroup=<Group(symbol=IVA, name=Carbon group)>,\n",
       " \tgroup_id=14,\n",
       " \theat_of_formation=716.87,\n",
       " \tionic_radii=[IonicRadius(\n",
       "\tatomic_number=6,\n",
       " \tcharge=4,\n",
       " \tcoordination='III',\n",
       " \tcrystal_radius=6.0,\n",
       " \teconf='1s2',\n",
       " \tid=56,\n",
       " \tionic_radius=-8.0,\n",
       " \tmost_reliable=False,\n",
       " \torigin='',\n",
       " \tspin='',\n",
       "), IonicRadius(\n",
       "\tatomic_number=6,\n",
       " \tcharge=4,\n",
       " \tcoordination='IV',\n",
       " \tcrystal_radius=28.999999999999996,\n",
       " \teconf='1s2',\n",
       " \tid=57,\n",
       " \tionic_radius=15.0,\n",
       " \tmost_reliable=False,\n",
       " \torigin=\"Pauling's (1960) crystal radius, \",\n",
       " \tspin='',\n",
       "), IonicRadius(\n",
       "\tatomic_number=6,\n",
       " \tcharge=4,\n",
       " \tcoordination='VI',\n",
       " \tcrystal_radius=30.0,\n",
       " \teconf='1s2',\n",
       " \tid=58,\n",
       " \tionic_radius=16.0,\n",
       " \tmost_reliable=False,\n",
       " \torigin='Ahrens (1952) ionic radius, ',\n",
       " \tspin='',\n",
       ")],\n",
       " \tis_monoisotopic=None,\n",
       " \tis_radioactive=False,\n",
       " \tisotopes=[<Isotope(Z=6, A=8, mass=8.03764(2), abundance=None)>, <Isotope(Z=6, A=9, mass=9.031037(2), abundance=None)>, <Isotope(Z=6, A=10, mass=10.01685322(8), abundance=None)>, <Isotope(Z=6, A=11, mass=11.01143260(6), abundance=None)>, <Isotope(Z=6, A=12, mass=12.00000, abundance=98.94(6))>, <Isotope(Z=6, A=13, mass=13.0033548353(2), abundance=1.06(6))>, <Isotope(Z=6, A=14, mass=14.003241989(4), abundance=None)>, <Isotope(Z=6, A=15, mass=15.0105993(9), abundance=None)>, <Isotope(Z=6, A=16, mass=16.014701(4), abundance=None)>, <Isotope(Z=6, A=17, mass=17.02258(2), abundance=None)>, <Isotope(Z=6, A=18, mass=18.02675(3), abundance=None)>, <Isotope(Z=6, A=19, mass=19.0348(1), abundance=None)>, <Isotope(Z=6, A=20, mass=20.0403(2), abundance=None)>, <Isotope(Z=6, A=21, mass=21.0490(6), abundance=None)>, <Isotope(Z=6, A=22, mass=22.0576(2), abundance=None)>, <Isotope(Z=6, A=23, mass=23.069(1), abundance=None)>],\n",
       " \tjmol_color='#909090',\n",
       " \tlattice_constant=3.57,\n",
       " \tlattice_structure='DIA',\n",
       " \tmendeleev_number=87,\n",
       " \tmetallic_radius=None,\n",
       " \tmetallic_radius_c12=86.0,\n",
       " \tmolar_heat_capacity=8.517,\n",
       " \tmolcas_gv_color='#555555',\n",
       " \tname='Carbon',\n",
       " \tname_origin='Latin: carbo, (charcoal).',\n",
       " \tperiod=2,\n",
       " \tpettifor_number=95,\n",
       " \tphase_transitions=[6 Tm=4762.15 Tb=4098.15, 6 Tm=4713.15 Tb=None],\n",
       " \tproton_affinity=None,\n",
       " \tscreening_constants=[<ScreeningConstant(Z=   6, n=  1, s=s, screening=    0.3273)>, <ScreeningConstant(Z=   6, n=  2, s=p, screening=    2.8642)>, <ScreeningConstant(Z=   6, n=  2, s=s, screening=    2.7834)>],\n",
       " \tsources='Made by burning organic compounds with insufficient oxygen.',\n",
       " \tspecific_heat_capacity=0.709,\n",
       " \tsymbol='C',\n",
       " \tthermal_conductivity=1.59,\n",
       " \tuses='For making steel, in filters, and many more uses. Radiocarbon dating uses the carbon-14 isotope to date old objects.',\n",
       " \tvdw_radius=170.0,\n",
       " \tvdw_radius_alvarez=177.0,\n",
       " \tvdw_radius_batsanov=170.0,\n",
       " \tvdw_radius_bondi=170.0,\n",
       " \tvdw_radius_dreiding=389.83,\n",
       " \tvdw_radius_mm3=204.0,\n",
       " \tvdw_radius_rt=177.0,\n",
       " \tvdw_radius_truhlar=None,\n",
       " \tvdw_radius_uff=385.1,\n",
       ")"
      ]
     },
     "execution_count": 9,
     "metadata": {},
     "output_type": "execute_result"
    }
   ],
   "source": [
    "C"
   ]
  },
  {
   "cell_type": "markdown",
   "metadata": {},
   "source": [
    "Além disso, cada propriedade pode ser acessada individualmente."
   ]
  },
  {
   "cell_type": "code",
   "execution_count": 10,
   "metadata": {},
   "outputs": [
    {
     "data": {
      "text/plain": [
       "6"
      ]
     },
     "execution_count": 10,
     "metadata": {},
     "output_type": "execute_result"
    }
   ],
   "source": [
    "C.atomic_number"
   ]
  },
  {
   "cell_type": "markdown",
   "metadata": {},
   "source": [
    "Além disso, a biblioteca ainda possue diversos *datasets* relacionados a propriedades atômicas, como a própria tabela periódica, os quais estão melhor descritos na referência 5."
   ]
  },
  {
   "cell_type": "code",
   "execution_count": 11,
   "metadata": {},
   "outputs": [
    {
     "data": {
      "text/html": [
       "<div>\n",
       "<style scoped>\n",
       "    .dataframe tbody tr th:only-of-type {\n",
       "        vertical-align: middle;\n",
       "    }\n",
       "\n",
       "    .dataframe tbody tr th {\n",
       "        vertical-align: top;\n",
       "    }\n",
       "\n",
       "    .dataframe thead th {\n",
       "        text-align: right;\n",
       "    }\n",
       "</style>\n",
       "<table border=\"1\" class=\"dataframe\">\n",
       "  <thead>\n",
       "    <tr style=\"text-align: right;\">\n",
       "      <th></th>\n",
       "      <th>annotation</th>\n",
       "      <th>atomic_number</th>\n",
       "      <th>atomic_radius</th>\n",
       "      <th>atomic_volume</th>\n",
       "      <th>block</th>\n",
       "      <th>density</th>\n",
       "      <th>description</th>\n",
       "      <th>dipole_polarizability</th>\n",
       "      <th>electron_affinity</th>\n",
       "      <th>electronic_configuration</th>\n",
       "      <th>...</th>\n",
       "      <th>discovery_year</th>\n",
       "      <th>discovery_location</th>\n",
       "      <th>name_origin</th>\n",
       "      <th>sources</th>\n",
       "      <th>uses</th>\n",
       "      <th>mendeleev_number</th>\n",
       "      <th>dipole_polarizability_unc</th>\n",
       "      <th>pettifor_number</th>\n",
       "      <th>glawe_number</th>\n",
       "      <th>molar_heat_capacity</th>\n",
       "    </tr>\n",
       "  </thead>\n",
       "  <tbody>\n",
       "    <tr>\n",
       "      <th>0</th>\n",
       "      <td>density(@ -253C), evaporation_heat(H-H), fusio...</td>\n",
       "      <td>1</td>\n",
       "      <td>25.0</td>\n",
       "      <td>14.1</td>\n",
       "      <td>s</td>\n",
       "      <td>0.000082</td>\n",
       "      <td>Colourless, odourless gaseous chemical element...</td>\n",
       "      <td>4.50711</td>\n",
       "      <td>0.754195</td>\n",
       "      <td>1s</td>\n",
       "      <td>...</td>\n",
       "      <td>1766.0</td>\n",
       "      <td>England</td>\n",
       "      <td>Greek: hydro (water) and genes (generate)</td>\n",
       "      <td>Commercial quantities are produced by reacting...</td>\n",
       "      <td>Most hydrogen is used in the production of amm...</td>\n",
       "      <td>105</td>\n",
       "      <td>0.00003</td>\n",
       "      <td>103.0</td>\n",
       "      <td>103.0</td>\n",
       "      <td>28.836</td>\n",
       "    </tr>\n",
       "    <tr>\n",
       "      <th>1</th>\n",
       "      <td>density(@ -270C),</td>\n",
       "      <td>2</td>\n",
       "      <td>120.0</td>\n",
       "      <td>31.8</td>\n",
       "      <td>s</td>\n",
       "      <td>0.000164</td>\n",
       "      <td>Colourless, odourless gaseous nonmetallic elem...</td>\n",
       "      <td>1.38375</td>\n",
       "      <td>-19.700000</td>\n",
       "      <td>1s2</td>\n",
       "      <td>...</td>\n",
       "      <td>1895.0</td>\n",
       "      <td>Scotland/Sweden</td>\n",
       "      <td>Greek: hêlios (sun).</td>\n",
       "      <td>Found in natural gas deposits &amp; in the air (5 ...</td>\n",
       "      <td>Used in balloons, deep sea diving &amp; welding. A...</td>\n",
       "      <td>112</td>\n",
       "      <td>0.00002</td>\n",
       "      <td>1.0</td>\n",
       "      <td>1.0</td>\n",
       "      <td>20.786</td>\n",
       "    </tr>\n",
       "    <tr>\n",
       "      <th>2</th>\n",
       "      <td></td>\n",
       "      <td>3</td>\n",
       "      <td>145.0</td>\n",
       "      <td>13.1</td>\n",
       "      <td>s</td>\n",
       "      <td>0.534000</td>\n",
       "      <td>Socket silvery metal. First member of group 1 ...</td>\n",
       "      <td>164.11250</td>\n",
       "      <td>0.618049</td>\n",
       "      <td>[He] 2s</td>\n",
       "      <td>...</td>\n",
       "      <td>1817.0</td>\n",
       "      <td>Sweden</td>\n",
       "      <td>Greek: lithos (stone).</td>\n",
       "      <td>Obtained by passing electric charge through me...</td>\n",
       "      <td>Used in batteries. Also for certain kinds of g...</td>\n",
       "      <td>1</td>\n",
       "      <td>0.00050</td>\n",
       "      <td>12.0</td>\n",
       "      <td>12.0</td>\n",
       "      <td>24.860</td>\n",
       "    </tr>\n",
       "    <tr>\n",
       "      <th>3</th>\n",
       "      <td></td>\n",
       "      <td>4</td>\n",
       "      <td>105.0</td>\n",
       "      <td>5.0</td>\n",
       "      <td>s</td>\n",
       "      <td>1.850000</td>\n",
       "      <td>Grey metallic element of group 2 of the period...</td>\n",
       "      <td>37.74000</td>\n",
       "      <td>-2.400000</td>\n",
       "      <td>[He] 2s2</td>\n",
       "      <td>...</td>\n",
       "      <td>1798.0</td>\n",
       "      <td>Germany/France</td>\n",
       "      <td>Greek: beryllos, \"beryl\" (a mineral).</td>\n",
       "      <td>Found mostly in minerals like beryl [AlBe3(Si6...</td>\n",
       "      <td>Its ability to absorb large amounts of heat ma...</td>\n",
       "      <td>75</td>\n",
       "      <td>0.03000</td>\n",
       "      <td>77.0</td>\n",
       "      <td>77.0</td>\n",
       "      <td>16.443</td>\n",
       "    </tr>\n",
       "    <tr>\n",
       "      <th>4</th>\n",
       "      <td></td>\n",
       "      <td>5</td>\n",
       "      <td>85.0</td>\n",
       "      <td>4.6</td>\n",
       "      <td>p</td>\n",
       "      <td>2.340000</td>\n",
       "      <td>An element of group 13 of the periodic table. ...</td>\n",
       "      <td>20.50000</td>\n",
       "      <td>0.279723</td>\n",
       "      <td>[He] 2s2 2p</td>\n",
       "      <td>...</td>\n",
       "      <td>1808.0</td>\n",
       "      <td>England/France</td>\n",
       "      <td>From Arabic and Persian words for borax.</td>\n",
       "      <td>Obtained from kernite, a kind of borax (Na2B4O...</td>\n",
       "      <td>Used with titanium &amp; tungsten to make heat res...</td>\n",
       "      <td>81</td>\n",
       "      <td>0.10000</td>\n",
       "      <td>86.0</td>\n",
       "      <td>86.0</td>\n",
       "      <td>11.087</td>\n",
       "    </tr>\n",
       "    <tr>\n",
       "      <th>...</th>\n",
       "      <td>...</td>\n",
       "      <td>...</td>\n",
       "      <td>...</td>\n",
       "      <td>...</td>\n",
       "      <td>...</td>\n",
       "      <td>...</td>\n",
       "      <td>...</td>\n",
       "      <td>...</td>\n",
       "      <td>...</td>\n",
       "      <td>...</td>\n",
       "      <td>...</td>\n",
       "      <td>...</td>\n",
       "      <td>...</td>\n",
       "      <td>...</td>\n",
       "      <td>...</td>\n",
       "      <td>...</td>\n",
       "      <td>...</td>\n",
       "      <td>...</td>\n",
       "      <td>...</td>\n",
       "      <td>...</td>\n",
       "      <td>...</td>\n",
       "    </tr>\n",
       "    <tr>\n",
       "      <th>113</th>\n",
       "      <td></td>\n",
       "      <td>114</td>\n",
       "      <td>NaN</td>\n",
       "      <td>NaN</td>\n",
       "      <td>p</td>\n",
       "      <td>9.928000</td>\n",
       "      <td>None</td>\n",
       "      <td>31.00000</td>\n",
       "      <td>NaN</td>\n",
       "      <td>[Rn] 5f14 6d10 7s2 7p2</td>\n",
       "      <td>...</td>\n",
       "      <td>1998.0</td>\n",
       "      <td>Russia</td>\n",
       "      <td>Named after the Flerov Laboratory of Nuclear R...</td>\n",
       "      <td>Made by bombarding plutonium-244 with calcium-48.</td>\n",
       "      <td>None</td>\n",
       "      <td>92</td>\n",
       "      <td>4.00000</td>\n",
       "      <td>NaN</td>\n",
       "      <td>NaN</td>\n",
       "      <td>NaN</td>\n",
       "    </tr>\n",
       "    <tr>\n",
       "      <th>114</th>\n",
       "      <td></td>\n",
       "      <td>115</td>\n",
       "      <td>NaN</td>\n",
       "      <td>NaN</td>\n",
       "      <td>p</td>\n",
       "      <td>13.500000</td>\n",
       "      <td>None</td>\n",
       "      <td>71.00000</td>\n",
       "      <td>NaN</td>\n",
       "      <td>[Rn] 5f14 6d10 7s2 7p3</td>\n",
       "      <td>...</td>\n",
       "      <td>2003.0</td>\n",
       "      <td>Russia</td>\n",
       "      <td>Named after the city of Moscov.</td>\n",
       "      <td>Made by bombarding americium-243 with calcium-48.</td>\n",
       "      <td>None</td>\n",
       "      <td>98</td>\n",
       "      <td>20.00000</td>\n",
       "      <td>NaN</td>\n",
       "      <td>NaN</td>\n",
       "      <td>NaN</td>\n",
       "    </tr>\n",
       "    <tr>\n",
       "      <th>115</th>\n",
       "      <td></td>\n",
       "      <td>116</td>\n",
       "      <td>NaN</td>\n",
       "      <td>NaN</td>\n",
       "      <td>p</td>\n",
       "      <td>12.900000</td>\n",
       "      <td>None</td>\n",
       "      <td>NaN</td>\n",
       "      <td>NaN</td>\n",
       "      <td>[Rn] 5f14 6d10 7s2 7p4</td>\n",
       "      <td>...</td>\n",
       "      <td>2000.0</td>\n",
       "      <td>United States</td>\n",
       "      <td>Named after the Lawrence Livermore National La...</td>\n",
       "      <td>Made by bombardng curium-248 with calcium-48.</td>\n",
       "      <td>None</td>\n",
       "      <td>104</td>\n",
       "      <td>NaN</td>\n",
       "      <td>NaN</td>\n",
       "      <td>NaN</td>\n",
       "      <td>NaN</td>\n",
       "    </tr>\n",
       "    <tr>\n",
       "      <th>116</th>\n",
       "      <td></td>\n",
       "      <td>117</td>\n",
       "      <td>NaN</td>\n",
       "      <td>NaN</td>\n",
       "      <td>p</td>\n",
       "      <td>7.200000</td>\n",
       "      <td>None</td>\n",
       "      <td>76.00000</td>\n",
       "      <td>NaN</td>\n",
       "      <td>[Rn] 5f14 6d10 7s2 7p5</td>\n",
       "      <td>...</td>\n",
       "      <td>2010.0</td>\n",
       "      <td>Russia/United States</td>\n",
       "      <td>Named after the state of Tennessee in United S...</td>\n",
       "      <td>Made by bombarding berkelium-249 with calcium-48.</td>\n",
       "      <td>None</td>\n",
       "      <td>111</td>\n",
       "      <td>15.00000</td>\n",
       "      <td>NaN</td>\n",
       "      <td>NaN</td>\n",
       "      <td>NaN</td>\n",
       "    </tr>\n",
       "    <tr>\n",
       "      <th>117</th>\n",
       "      <td></td>\n",
       "      <td>118</td>\n",
       "      <td>NaN</td>\n",
       "      <td>NaN</td>\n",
       "      <td>p</td>\n",
       "      <td>7.000000</td>\n",
       "      <td>None</td>\n",
       "      <td>58.00000</td>\n",
       "      <td>0.056000</td>\n",
       "      <td>[Rn] 5f14 6d10 7s2 7p6</td>\n",
       "      <td>...</td>\n",
       "      <td>2002.0</td>\n",
       "      <td>Russia</td>\n",
       "      <td>Named in honor of the scientist Yuri Oganessian.</td>\n",
       "      <td>Made by bombarding californium-249 with calciu...</td>\n",
       "      <td>None</td>\n",
       "      <td>118</td>\n",
       "      <td>6.00000</td>\n",
       "      <td>NaN</td>\n",
       "      <td>NaN</td>\n",
       "      <td>NaN</td>\n",
       "    </tr>\n",
       "  </tbody>\n",
       "</table>\n",
       "<p>118 rows × 69 columns</p>\n",
       "</div>"
      ],
      "text/plain": [
       "                                            annotation  atomic_number  \\\n",
       "0    density(@ -253C), evaporation_heat(H-H), fusio...              1   \n",
       "1                                   density(@ -270C),               2   \n",
       "2                                                                   3   \n",
       "3                                                                   4   \n",
       "4                                                                   5   \n",
       "..                                                 ...            ...   \n",
       "113                                                               114   \n",
       "114                                                               115   \n",
       "115                                                               116   \n",
       "116                                                               117   \n",
       "117                                                               118   \n",
       "\n",
       "     atomic_radius  atomic_volume block    density  \\\n",
       "0             25.0           14.1     s   0.000082   \n",
       "1            120.0           31.8     s   0.000164   \n",
       "2            145.0           13.1     s   0.534000   \n",
       "3            105.0            5.0     s   1.850000   \n",
       "4             85.0            4.6     p   2.340000   \n",
       "..             ...            ...   ...        ...   \n",
       "113            NaN            NaN     p   9.928000   \n",
       "114            NaN            NaN     p  13.500000   \n",
       "115            NaN            NaN     p  12.900000   \n",
       "116            NaN            NaN     p   7.200000   \n",
       "117            NaN            NaN     p   7.000000   \n",
       "\n",
       "                                           description  dipole_polarizability  \\\n",
       "0    Colourless, odourless gaseous chemical element...                4.50711   \n",
       "1    Colourless, odourless gaseous nonmetallic elem...                1.38375   \n",
       "2    Socket silvery metal. First member of group 1 ...              164.11250   \n",
       "3    Grey metallic element of group 2 of the period...               37.74000   \n",
       "4    An element of group 13 of the periodic table. ...               20.50000   \n",
       "..                                                 ...                    ...   \n",
       "113                                               None               31.00000   \n",
       "114                                               None               71.00000   \n",
       "115                                               None                    NaN   \n",
       "116                                               None               76.00000   \n",
       "117                                               None               58.00000   \n",
       "\n",
       "     electron_affinity electronic_configuration  ...  discovery_year  \\\n",
       "0             0.754195                       1s  ...          1766.0   \n",
       "1           -19.700000                      1s2  ...          1895.0   \n",
       "2             0.618049                  [He] 2s  ...          1817.0   \n",
       "3            -2.400000                 [He] 2s2  ...          1798.0   \n",
       "4             0.279723              [He] 2s2 2p  ...          1808.0   \n",
       "..                 ...                      ...  ...             ...   \n",
       "113                NaN   [Rn] 5f14 6d10 7s2 7p2  ...          1998.0   \n",
       "114                NaN   [Rn] 5f14 6d10 7s2 7p3  ...          2003.0   \n",
       "115                NaN   [Rn] 5f14 6d10 7s2 7p4  ...          2000.0   \n",
       "116                NaN   [Rn] 5f14 6d10 7s2 7p5  ...          2010.0   \n",
       "117           0.056000   [Rn] 5f14 6d10 7s2 7p6  ...          2002.0   \n",
       "\n",
       "       discovery_location                                        name_origin  \\\n",
       "0                 England          Greek: hydro (water) and genes (generate)   \n",
       "1         Scotland/Sweden                               Greek: hêlios (sun).   \n",
       "2                  Sweden                             Greek: lithos (stone).   \n",
       "3          Germany/France              Greek: beryllos, \"beryl\" (a mineral).   \n",
       "4          England/France           From Arabic and Persian words for borax.   \n",
       "..                    ...                                                ...   \n",
       "113                Russia  Named after the Flerov Laboratory of Nuclear R...   \n",
       "114                Russia                    Named after the city of Moscov.   \n",
       "115         United States  Named after the Lawrence Livermore National La...   \n",
       "116  Russia/United States  Named after the state of Tennessee in United S...   \n",
       "117                Russia   Named in honor of the scientist Yuri Oganessian.   \n",
       "\n",
       "                                               sources  \\\n",
       "0    Commercial quantities are produced by reacting...   \n",
       "1    Found in natural gas deposits & in the air (5 ...   \n",
       "2    Obtained by passing electric charge through me...   \n",
       "3    Found mostly in minerals like beryl [AlBe3(Si6...   \n",
       "4    Obtained from kernite, a kind of borax (Na2B4O...   \n",
       "..                                                 ...   \n",
       "113  Made by bombarding plutonium-244 with calcium-48.   \n",
       "114  Made by bombarding americium-243 with calcium-48.   \n",
       "115      Made by bombardng curium-248 with calcium-48.   \n",
       "116  Made by bombarding berkelium-249 with calcium-48.   \n",
       "117  Made by bombarding californium-249 with calciu...   \n",
       "\n",
       "                                                  uses mendeleev_number  \\\n",
       "0    Most hydrogen is used in the production of amm...              105   \n",
       "1    Used in balloons, deep sea diving & welding. A...              112   \n",
       "2    Used in batteries. Also for certain kinds of g...                1   \n",
       "3    Its ability to absorb large amounts of heat ma...               75   \n",
       "4    Used with titanium & tungsten to make heat res...               81   \n",
       "..                                                 ...              ...   \n",
       "113                                               None               92   \n",
       "114                                               None               98   \n",
       "115                                               None              104   \n",
       "116                                               None              111   \n",
       "117                                               None              118   \n",
       "\n",
       "     dipole_polarizability_unc  pettifor_number  glawe_number  \\\n",
       "0                      0.00003            103.0         103.0   \n",
       "1                      0.00002              1.0           1.0   \n",
       "2                      0.00050             12.0          12.0   \n",
       "3                      0.03000             77.0          77.0   \n",
       "4                      0.10000             86.0          86.0   \n",
       "..                         ...              ...           ...   \n",
       "113                    4.00000              NaN           NaN   \n",
       "114                   20.00000              NaN           NaN   \n",
       "115                        NaN              NaN           NaN   \n",
       "116                   15.00000              NaN           NaN   \n",
       "117                    6.00000              NaN           NaN   \n",
       "\n",
       "    molar_heat_capacity  \n",
       "0                28.836  \n",
       "1                20.786  \n",
       "2                24.860  \n",
       "3                16.443  \n",
       "4                11.087  \n",
       "..                  ...  \n",
       "113                 NaN  \n",
       "114                 NaN  \n",
       "115                 NaN  \n",
       "116                 NaN  \n",
       "117                 NaN  \n",
       "\n",
       "[118 rows x 69 columns]"
      ]
     },
     "metadata": {},
     "output_type": "display_data"
    }
   ],
   "source": [
    "from mendeleev.fetch import fetch_table\n",
    "df = fetch_table('elements')\n",
    "display(df)"
   ]
  },
  {
   "cell_type": "markdown",
   "metadata": {},
   "source": [
    "### **Conclusão** 🧪"
   ]
  },
  {
   "cell_type": "markdown",
   "metadata": {},
   "source": [
    "<p style=\"text-align: justify;\">\n",
    "Foi possível concluir que as classes podem ser formas efetivas para a representação de elementos e moléculas. A lógica aplicada é simples e intuitiva, sendo que outros métodos relacionados com propriedades atômicas também poderiam ter sido implementados (como a determinação da quantidade de neutrôns, através da utilização do número de prótons e peso atômico, por exemplo), o que demonstra a grande versalitidade desse tipo de representação. Além disso, foi possível verificar que já existem bibliotecas (como a Mendeleev) que utilizam classes para a representação de elementos.\n",
    "</p>"
   ]
  },
  {
   "cell_type": "markdown",
   "metadata": {},
   "source": [
    "### **Referências!** 🗃️"
   ]
  },
  {
   "cell_type": "markdown",
   "metadata": {},
   "source": [
    "[1] Molecule | Definition, Examples, Structures, & Facts | Britannica. Disponível em: <https://www.britannica.com/science/molecule>. Acesso em: 16 mar. 2025.\n",
    "\n",
    "[2] Cafeína. In: Wikipédia, a enciclopédia livre. [s.l.: s.n.], 2025. Disponível em: <https://pt.wikipedia.org/w/index.php?title=Cafe%C3%ADna&oldid=69592888>. Acesso em: 16 mar. 2025.\n",
    "\n",
    "[3] Tabela Periódica - Ptable. Disponível em: <https://ptable.com/?lang=pt>. Acesso em: 16 mar. 2025.\n",
    "\n",
    "[4] Sistema de Hill. In: Wikipédia, a enciclopédia livre. [s.l.: s.n.], 2017. Disponível em: <https://pt.wikipedia.org/w/index.php?title=Sistema_de_Hill&oldid=49055303>. Acesso em: 16 mar. 2025.\n",
    "\n",
    "[5] Welcome to mendeleev’s documentation — mendeleev 0.20.1 documentation. Disponível em: <https://mendeleev.readthedocs.io/en/stable/>. Acesso em: 16 mar. 2025."
   ]
  }
 ],
 "metadata": {
  "kernelspec": {
   "display_name": "Python 3",
   "language": "python",
   "name": "python3"
  },
  "language_info": {
   "codemirror_mode": {
    "name": "ipython",
    "version": 3
   },
   "file_extension": ".py",
   "mimetype": "text/x-python",
   "name": "python",
   "nbconvert_exporter": "python",
   "pygments_lexer": "ipython3",
   "version": "3.11.6"
  }
 },
 "nbformat": 4,
 "nbformat_minor": 2
}
